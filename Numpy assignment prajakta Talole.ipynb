{
 "cells": [
  {
   "cell_type": "code",
   "execution_count": 2,
   "id": "e9eefa2d",
   "metadata": {},
   "outputs": [
    {
     "name": "stdout",
     "output_type": "stream",
     "text": [
      "1.21.5\n"
     ]
    }
   ],
   "source": [
    "# Write a Python program to print the NumPy\n",
    "# version in your system\n",
    "import numpy as np \n",
    "print(np.__version__)"
   ]
  },
  {
   "cell_type": "code",
   "execution_count": 11,
   "id": "e7aa8cfa",
   "metadata": {},
   "outputs": [
    {
     "data": {
      "text/plain": [
       "array([5, 4, 3, 2, 1])"
      ]
     },
     "execution_count": 11,
     "metadata": {},
     "output_type": "execute_result"
    }
   ],
   "source": [
    "# Write a Python program to reverse an array\n",
    "# (first element becomes last)\n",
    "def my_arr_rev(arr):\n",
    "    lst=list(arr)\n",
    "    lst.reverse()\n",
    "    arr1=np.array(lst)\n",
    "    return arr1\n",
    "my_arr_rev(np.array([1,2,3,4,5]))   "
   ]
  },
  {
   "cell_type": "code",
   "execution_count": 18,
   "id": "779f1431",
   "metadata": {},
   "outputs": [
    {
     "name": "stdout",
     "output_type": "stream",
     "text": [
      "(array([1, 2, 3, 4, 5]), <class 'numpy.ndarray'>)\n",
      "(array([1, 2, 3, 4, 5]), <class 'numpy.ndarray'>)\n"
     ]
    }
   ],
   "source": [
    "# Write a Python program to convert a list and\n",
    "# tuple into arrays.\n",
    "def list_to_arr(lst):\n",
    "    arr1=np.array(lst)\n",
    "    return (arr1 ,type(arr1))\n",
    "print(list_to_arr([1,2,3,4,5]))\n",
    "def tuple_to_arr(tuple1):\n",
    "    arr1=np.array(tuple1)\n",
    "    return (arr1 ,type(arr1))\n",
    "print(tuple_to_arr((1,2,3,4,5)))"
   ]
  },
  {
   "cell_type": "code",
   "execution_count": 20,
   "id": "c92e26fd",
   "metadata": {},
   "outputs": [
    {
     "data": {
      "text/plain": [
       "array([ 2,  5, 89])"
      ]
     },
     "execution_count": 20,
     "metadata": {},
     "output_type": "execute_result"
    }
   ],
   "source": [
    "# Write a Python program to find common values\n",
    "# between two arrays.\n",
    "def common_values(arr1,arr2):\n",
    "    lst1=list(arr1)\n",
    "    lst2=list(arr2)\n",
    "    lst=[]\n",
    "    for i in lst1:\n",
    "        if i in lst2:\n",
    "            lst.append(i)\n",
    "    lst\n",
    "    arr3=np.array(lst)\n",
    "    return arr3\n",
    "common_values(np.array([1,2,3,4,5,89,76]),np.array([2,5,89,65,67]))"
   ]
  },
  {
   "cell_type": "code",
   "execution_count": 22,
   "id": "10f44762",
   "metadata": {},
   "outputs": [
    {
     "data": {
      "text/plain": [
       "array([ 1,  2, 89])"
      ]
     },
     "execution_count": 22,
     "metadata": {},
     "output_type": "execute_result"
    }
   ],
   "source": [
    "a=np.array([1,2,3,4,5,89,76])\n",
    "b=np.array([1,2,89,65])\n",
    "np.intersect1d(a,b)\n"
   ]
  },
  {
   "cell_type": "code",
   "execution_count": 25,
   "id": "6574caf6",
   "metadata": {},
   "outputs": [
    {
     "data": {
      "text/plain": [
       "array([ 1,  2,  4, 43, 89])"
      ]
     },
     "execution_count": 25,
     "metadata": {},
     "output_type": "execute_result"
    }
   ],
   "source": [
    "a=np.array([1,2,3,4,5,89,76,43]).reshape(2,4)\n",
    "b=np.array([1,2,89,65,43,4]).reshape(2,3)\n",
    "np.intersect1d(a,b)\n"
   ]
  },
  {
   "cell_type": "code",
   "execution_count": 37,
   "id": "dc38bf10",
   "metadata": {},
   "outputs": [
    {
     "name": "stdout",
     "output_type": "stream",
     "text": [
      "a > b\n",
      "[False  True False False False False  True]\n",
      "a >= b\n",
      "[ True  True False  True False  True  True]\n",
      "a < b\n",
      "[False False  True False  True False False]\n",
      "a <= b\n",
      "[ True False  True  True  True  True False]\n"
     ]
    }
   ],
   "source": [
    "# Write a Python program compare two arrays\n",
    "# using numpy.\n",
    "a=np.array([1,2,3,4,-5,-6,8])\n",
    "b=np.array([1,-2,8,4,5,-6,-8])\n",
    "print(\"a > b\")\n",
    "print(np.greater(a, b))\n",
    " \n",
    "print(\"a >= b\")\n",
    "print(np.greater_equal(a, b))\n",
    " \n",
    "print(\"a < b\")\n",
    "print(np.less(a, b))\n",
    " \n",
    "print(\"a <= b\")\n",
    "print(np.less_equal(a, b))"
   ]
  },
  {
   "cell_type": "code",
   "execution_count": 49,
   "id": "5967b725",
   "metadata": {},
   "outputs": [
    {
     "name": "stdout",
     "output_type": "stream",
     "text": [
      "[1 2 3 4 5 6 7 8 9]\n",
      "[[1 2 3]\n",
      " [4 5 6]\n",
      " [7 8 9]]\n"
     ]
    }
   ],
   "source": [
    "# Write a Python program to change the\n",
    "# dimension of an array\n",
    "\n",
    "\n",
    "a=np.arange(1,10)\n",
    "print(a)\n",
    "b=a.reshape(3,3)\n",
    "print(b)"
   ]
  },
  {
   "cell_type": "code",
   "execution_count": 53,
   "id": "d903c294",
   "metadata": {},
   "outputs": [
    {
     "name": "stdout",
     "output_type": "stream",
     "text": [
      "2418\n"
     ]
    }
   ],
   "source": [
    "# Write a Python program (using numpy) to sum\n",
    "# of all the multiples of 3 or 5 below 100\n",
    "\n",
    "a=np.arange(1,101)\n",
    "k=0\n",
    "for i in range(len(a)):\n",
    "    if a[i]%3==0 or a[i]%5==0:\n",
    "        k=k+a[i]\n",
    "print(k)\n",
    "        "
   ]
  },
  {
   "cell_type": "code",
   "execution_count": 54,
   "id": "a10c90ee",
   "metadata": {},
   "outputs": [
    {
     "name": "stdout",
     "output_type": "stream",
     "text": [
      "[1, 2, 3, 4, 5, 6, 7, 8, 9]\n"
     ]
    }
   ],
   "source": [
    "# Write a Python program to convert a NumPy\n",
    "# array into Python list structure.\n",
    "def arr_to_lst(arr):\n",
    "    lst=list(arr)\n",
    "    print(lst)\n",
    "arr_to_lst(np.array(np.arange(1,10)))\n"
   ]
  },
  {
   "cell_type": "code",
   "execution_count": 61,
   "id": "2aac60d0",
   "metadata": {},
   "outputs": [
    {
     "data": {
      "text/plain": [
       "array([[1, 1, 1, 2, 3, 4],\n",
       "       [5, 1, 1, 6, 7, 8]])"
      ]
     },
     "execution_count": 61,
     "metadata": {},
     "output_type": "execute_result"
    }
   ],
   "source": [
    "#  Write a Python program to how to add an extra\n",
    "# column to a numpy array.\n",
    "a=np.array([1,2,3,4,5,6,7,8]).reshape(2,4)\n",
    "b=np.array([1,1])\n",
    "def inserting(a,b):\n",
    "    c =np.insert(a,b,1,axis=1)\n",
    "    return c\n",
    "    \n",
    "inserting(a,b)"
   ]
  },
  {
   "cell_type": "code",
   "execution_count": 15,
   "id": "6b2da7dc",
   "metadata": {},
   "outputs": [
    {
     "name": "stdout",
     "output_type": "stream",
     "text": [
      "empty\n"
     ]
    }
   ],
   "source": [
    "# Write a Python program to check whether the\n",
    "# numpy array is empty or not\n",
    "import numpy as np\n",
    "def empty_(my_arr):\n",
    "    if my_arr.size==0:\n",
    "        \n",
    "        print('empty')\n",
    "    else:\n",
    "        print('non-empty')\n",
    "    \n",
    "empty_(np.array([]))"
   ]
  },
  {
   "cell_type": "code",
   "execution_count": 16,
   "id": "b428ca6d",
   "metadata": {},
   "outputs": [
    {
     "name": "stdout",
     "output_type": "stream",
     "text": [
      "non-empty\n"
     ]
    }
   ],
   "source": [
    "empty_(np.array([1,2,3,4]))"
   ]
  },
  {
   "cell_type": "code",
   "execution_count": 19,
   "id": "bc614088",
   "metadata": {},
   "outputs": [
    {
     "name": "stdout",
     "output_type": "stream",
     "text": [
      "Original Array:\n",
      "[[0.92462346 0.43669637 0.12440767]\n",
      " [0.56524362 0.15032591 0.19056167]\n",
      " [0.03536978 0.161614   0.03855175]]\n",
      "0.03536977637366456\n",
      "0.9246234602843225\n",
      "After normalization:\n",
      "[[1.         0.45130721 0.10012654]\n",
      " [0.59586354 0.12927259 0.17451925]\n",
      " [0.         0.14196649 0.00357826]]\n"
     ]
    }
   ],
   "source": [
    "# Write a Python program to normalize a 3x3 \n",
    "# random matrix.\n",
    "import numpy as np\n",
    "x= np.random.random((3,3))\n",
    "print(\"Original Array:\")\n",
    "print(x)\n",
    "print(x.min())\n",
    "print(x.max())\n",
    "xmax, xmin = x.max(), x.min()\n",
    "x = (x - xmin)/(xmax - xmin)\n",
    "print(\"After normalization:\")\n",
    "print(x)\n"
   ]
  },
  {
   "cell_type": "code",
   "execution_count": null,
   "id": "4c351e1f",
   "metadata": {},
   "outputs": [],
   "source": [
    "# How to ignore all numpy warnings (not \n",
    "# recommended)?"
   ]
  },
  {
   "cell_type": "code",
   "execution_count": 42,
   "id": "b4c6ebfc",
   "metadata": {},
   "outputs": [
    {
     "name": "stdout",
     "output_type": "stream",
     "text": [
      "[[1 2]\n",
      " [3 4]\n",
      " [5 6]\n",
      " [7 8]]\n"
     ]
    }
   ],
   "source": [
    "# How to swap two rows of an array?\n",
    "np.random.seed(101)\n",
    "arr=np.arange(1,9).reshape(4,2)\n",
    "print(arr)"
   ]
  },
  {
   "cell_type": "code",
   "execution_count": 43,
   "id": "dadf9b27",
   "metadata": {},
   "outputs": [
    {
     "data": {
      "text/plain": [
       "array([[3, 4],\n",
       "       [1, 2],\n",
       "       [5, 6],\n",
       "       [7, 8]])"
      ]
     },
     "execution_count": 43,
     "metadata": {},
     "output_type": "execute_result"
    }
   ],
   "source": [
    "arr[[0,1]]=arr[[1,0]]\n",
    "arr"
   ]
  },
  {
   "cell_type": "code",
   "execution_count": 46,
   "id": "04b3bf6a",
   "metadata": {},
   "outputs": [
    {
     "data": {
      "text/plain": [
       "array([[4, 3],\n",
       "       [2, 1],\n",
       "       [6, 5],\n",
       "       [8, 7]])"
      ]
     },
     "execution_count": 46,
     "metadata": {},
     "output_type": "execute_result"
    }
   ],
   "source": [
    "# arr[:,[1,0]]=arr[:,[0,1]]\n",
    "# arr"
   ]
  },
  {
   "cell_type": "code",
   "execution_count": null,
   "id": "b755c9be",
   "metadata": {},
   "outputs": [],
   "source": [
    "# Compute bootstrapped 95% confidence \n",
    "# intervals for the mean of a 1D array X (i.e., \n",
    "# resample the elements of an array with \n",
    "# replacement N times, compute the mean of \n",
    "# each sample, and then compute percentiles \n",
    "# over the means)\n",
    "\n",
    "\n",
    "\n",
    "##### couldnt understood the problem"
   ]
  },
  {
   "cell_type": "code",
   "execution_count": 64,
   "id": "fded5f66",
   "metadata": {},
   "outputs": [
    {
     "name": "stdout",
     "output_type": "stream",
     "text": [
      "[[  1  23   4 578  78  98  76  43  88  90]]\n",
      "[[  1   4  23  43  76  78  88  90  98 578]]\n"
     ]
    }
   ],
   "source": [
    "#  Python program to create a random vector of \n",
    "# size 10 and sort it.\n",
    "\n",
    "arr=np.array([1,23,4,578,78,98,76,43,88,90]).reshape(1,10)\n",
    "print(arr)\n",
    "arr1=np.sort(arr)\n",
    "print(arr1)\n"
   ]
  },
  {
   "cell_type": "code",
   "execution_count": 65,
   "id": "1d8f4c69",
   "metadata": {},
   "outputs": [
    {
     "name": "stdout",
     "output_type": "stream",
     "text": [
      "[[ True  True  True  True  True]\n",
      " [ True  True  True  True  True]]\n"
     ]
    }
   ],
   "source": [
    "#  Write a Python program to check two random \n",
    "# arrays are equal or not.\n",
    "arr=np.array([1,23,4,578,78,98,76,43,88,90]).reshape(2,5)\n",
    "arr2=np.array([1,23,4,578,78,98,76,43,88,90]).reshape(2,5)\n",
    "print(arr==arr2)"
   ]
  },
  {
   "cell_type": "code",
   "execution_count": 70,
   "id": "e5be5853",
   "metadata": {},
   "outputs": [
    {
     "name": "stdout",
     "output_type": "stream",
     "text": [
      "[[5 4 2]\n",
      " [5 5 5]\n",
      " [3 4 2]\n",
      " [8 5 1]]\n",
      "[[7 8 5]\n",
      " [1 8 3]\n",
      " [8 8 7]\n",
      " [6 3 9]]\n",
      "[[12 12  7]\n",
      " [ 6 13  8]\n",
      " [11 12  9]\n",
      " [14  8 10]]\n",
      "[[-2 -4 -3]\n",
      " [ 4 -3  2]\n",
      " [-5 -4 -5]\n",
      " [ 2  2 -8]]\n",
      "[[35 32 10]\n",
      " [ 5 40 15]\n",
      " [24 32 14]\n",
      " [48 15  9]]\n",
      "[[0.71428571 0.5        0.4       ]\n",
      " [5.         0.625      1.66666667]\n",
      " [0.375      0.5        0.28571429]\n",
      " [1.33333333 1.66666667 0.11111111]]\n"
     ]
    }
   ],
   "source": [
    "# Write a Python program to add, subtract, \n",
    "# multiply, divide arguments element-wise.\n",
    "arr=np.random.randint(1,10,12).reshape(4,3)\n",
    "arr1=np.random.randint(1,10,12).reshape(4,3)\n",
    "arr2=arr+arr1\n",
    "arr3=arr-arr1\n",
    "arr4=arr*arr1\n",
    "arr5=arr/arr1\n",
    "print(arr,arr1,arr2,arr3,arr4,arr5,sep='\\n')\n",
    "\n"
   ]
  },
  {
   "cell_type": "code",
   "execution_count": 71,
   "id": "2fdeebfc",
   "metadata": {},
   "outputs": [
    {
     "name": "stdout",
     "output_type": "stream",
     "text": [
      "Yestraday:  2022-09-14\n",
      "Today:  2022-09-15\n",
      "Tomorrow:  2022-09-16\n"
     ]
    }
   ],
   "source": [
    "#  Write a Python program to get the dates of \n",
    "# yesterday, today and tomorrow\n",
    "import numpy as np\n",
    "yesterday = np.datetime64('today', 'D') - np.timedelta64(1, 'D')\n",
    "print(\"Yestraday: \",yesterday)\n",
    "today     = np.datetime64('today', 'D')\n",
    "print(\"Today: \",today)\n",
    "tomorrow  = np.datetime64('today', 'D') + np.timedelta64(1, 'D')\n",
    "print(\"Tomorrow: \",tomorrow)"
   ]
  },
  {
   "cell_type": "code",
   "execution_count": null,
   "id": "85f3a227",
   "metadata": {},
   "outputs": [],
   "source": []
  },
  {
   "cell_type": "code",
   "execution_count": null,
   "id": "8074e75a",
   "metadata": {},
   "outputs": [],
   "source": []
  },
  {
   "cell_type": "code",
   "execution_count": null,
   "id": "c616d35a",
   "metadata": {},
   "outputs": [],
   "source": []
  },
  {
   "cell_type": "code",
   "execution_count": null,
   "id": "75e813ba",
   "metadata": {},
   "outputs": [],
   "source": []
  },
  {
   "cell_type": "code",
   "execution_count": null,
   "id": "1e030f03",
   "metadata": {},
   "outputs": [],
   "source": []
  },
  {
   "cell_type": "code",
   "execution_count": null,
   "id": "c54c0f93",
   "metadata": {},
   "outputs": [],
   "source": []
  }
 ],
 "metadata": {
  "kernelspec": {
   "display_name": "Python 3 (ipykernel)",
   "language": "python",
   "name": "python3"
  },
  "language_info": {
   "codemirror_mode": {
    "name": "ipython",
    "version": 3
   },
   "file_extension": ".py",
   "mimetype": "text/x-python",
   "name": "python",
   "nbconvert_exporter": "python",
   "pygments_lexer": "ipython3",
   "version": "3.9.12"
  }
 },
 "nbformat": 4,
 "nbformat_minor": 5
}
