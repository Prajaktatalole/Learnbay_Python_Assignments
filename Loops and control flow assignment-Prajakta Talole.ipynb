{
 "cells": [
  {
   "cell_type": "code",
   "execution_count": 23,
   "id": "9035cf68",
   "metadata": {},
   "outputs": [
    {
     "name": "stdout",
     "output_type": "stream",
     "text": [
      "enter the number23\n",
      "number is outside the range\n"
     ]
    }
   ],
   "source": [
    "########## Q1\n",
    "\n",
    "# W. A P. which takes one number from 0 to 9 from the user and prints\n",
    "# it in the word. And if the word is not from 0 to 9 then\n",
    "# it should print that number is outside of the range and program should\n",
    "# exit.\n",
    "\n",
    "def spelling():\n",
    "    i=int(input('enter the number'))\n",
    "    if i==0:\n",
    "            print('zero')\n",
    "    elif i==1:\n",
    "            print('one')\n",
    "    elif i==2:\n",
    "            print('two')\n",
    "    elif i==3:\n",
    "            print('three')\n",
    "    elif i==4:\n",
    "            print('four')\n",
    "    elif i==5:\n",
    "            print('five')\n",
    "    elif i==6:\n",
    "            print('six')\n",
    "    elif i==7:\n",
    "            print('seven')\n",
    "    elif i==8:\n",
    "            print('eight')\n",
    "    elif i==9:\n",
    "            print('nine')\n",
    "    else:\n",
    "            print('number is outside the range')\n",
    "spelling()   "
   ]
  },
  {
   "cell_type": "code",
   "execution_count": 9,
   "id": "556998fe",
   "metadata": {},
   "outputs": [
    {
     "name": "stdout",
     "output_type": "stream",
     "text": [
      "enter the first no2\n",
      "enter the second number3\n",
      "enter the operation no2\n",
      "-1\n"
     ]
    }
   ],
   "source": [
    "#####Q2\n",
    "\n",
    "# W. A P. to implement calculator but the operation to be done and two\n",
    "# numbers will be taken as input from user:-\n",
    "# Operation console should show below:-\n",
    "#  Please select any one operation from below:-\n",
    "#  * To add enter 1\n",
    "#  * to subtract enter 2\n",
    "#  * To multiply enter 3\n",
    "#  * To divide enter 4\n",
    "#  * To divide and find quotient enter 5\n",
    "#  * To divide and find remainder enter 6\n",
    "#  * To divide and find num1 to the power of num2 enter 7\n",
    "#  * To Come out of the program enter 8\n",
    "num1=int(input('enter the first no'))\n",
    "num2=int(input('enter the second number'))\n",
    "select=int(input('enter the operation no'))\n",
    "if select==1:\n",
    "    print({num1}+{num2})\n",
    "elif select==2:\n",
    "    print(num1-num2)\n",
    "elif select==3:\n",
    "    print(num1*num2)\n",
    "elif select==5:\n",
    "    print(num1/num2 ,num1//num2)\n",
    "elif select==6:\n",
    "    print(num1/num2,num1%num2)\n",
    "elif select==7:\n",
    "    print(num1/num2,num1**num2)\n",
    "elif select==8:\n",
    "    print('come out of the program')\n",
    "    \n",
    "    \n",
    "    \n"
   ]
  },
  {
   "cell_type": "code",
   "execution_count": 8,
   "id": "0a2a8b38",
   "metadata": {},
   "outputs": [
    {
     "name": "stdout",
     "output_type": "stream",
     "text": [
      "no2\n",
      "no\n"
     ]
    }
   ],
   "source": [
    "select=input('no')\n",
    "if select==2:\n",
    "    print('yes')\n",
    "else:\n",
    "    print('no')"
   ]
  },
  {
   "cell_type": "code",
   "execution_count": 27,
   "id": "6a52e817",
   "metadata": {},
   "outputs": [
    {
     "name": "stdout",
     "output_type": "stream",
     "text": [
      "2012 is leap year\n",
      "1968 is leap year\n",
      "2004 is leap year\n",
      "1200 is leap year\n",
      "1600 is leap year\n",
      "1971 is not a leap year\n",
      "2006 is not a leap year\n",
      "1700 is not a leap year\n",
      "1800 is not a leap year\n",
      "1900 is not a leap year\n"
     ]
    }
   ],
   "source": [
    "####### Q-3    Whether the year is leap\n",
    "\n",
    "#W A P to check whether a year entered by user is an leap year or not?\n",
    "#Check with below input:-\n",
    "#leap year:- 2012, 1968, 2004, 1200, 1600,2400\n",
    "# Non-lear year:- 1971, 2006, 1700,1800,1900\n",
    "\n",
    "def leap_year_checking(y):\n",
    "    \n",
    "    if y%100==0:\n",
    "        if y%400==0:\n",
    "            return(f'{y} is leap year')\n",
    "        else:\n",
    "            return(f'{y} is not a leap year')\n",
    "    else:\n",
    "        \n",
    "        \n",
    "        if y%4==0:\n",
    "            \n",
    "            return(f'{y} is leap year')\n",
    "        else:\n",
    "            \n",
    "            return(f'{y} is not a leap year')\n",
    "            \n",
    "print(leap_year_checking(2012))  \n",
    "print(leap_year_checking(1968)) \n",
    "print(leap_year_checking(2004))  \n",
    "print(leap_year_checking(1200))  \n",
    "print(leap_year_checking(1600))  \n",
    "print(leap_year_checking(1971))  \n",
    "print(leap_year_checking(2006))  \n",
    "print(leap_year_checking(1700))  \n",
    "print(leap_year_checking(1800))\n",
    "print(leap_year_checking(1900)) "
   ]
  },
  {
   "cell_type": "code",
   "execution_count": 28,
   "id": "c12720df",
   "metadata": {},
   "outputs": [
    {
     "data": {
      "text/plain": [
       "'3 is odd number'"
      ]
     },
     "execution_count": 28,
     "metadata": {},
     "output_type": "execute_result"
    }
   ],
   "source": [
    "####### Q.4\n",
    "#  W A P which takes one number from the user and checks whether it is\n",
    "# an even or odd number?, If it even then prints number is\n",
    "# even number else prints that number is odd number.\n",
    "\n",
    "\n",
    "def even_odd(x):\n",
    "    if x%2==0:\n",
    "        return(f'{x} is even number')\n",
    "    else:\n",
    "        return(f'{x} is odd number')\n",
    "even_odd(3)\n",
    "    \n",
    "        "
   ]
  },
  {
   "cell_type": "code",
   "execution_count": 4,
   "id": "8dff441e",
   "metadata": {},
   "outputs": [
    {
     "name": "stdout",
     "output_type": "stream",
     "text": [
      "24 is greater than -10\n",
      "24 is greater than -10\n"
     ]
    }
   ],
   "source": [
    "##Q.5\n",
    "\n",
    "# W A P which takes two numbers from the user and prints below output:-\n",
    "#  1. num1 is greater than num2 if num1 is greater than num2\n",
    "#  2. num1 is smaller than num2 if num1 is smaller than num2\n",
    "#  3. num1 is equal to num2 if num1 and num2 are equal\n",
    "\n",
    "def maximum(num1,num2):\n",
    "    if num1==num2:\n",
    "        return (f'{num1} and {num2} are equal')\n",
    "    elif num1>num2:\n",
    "        return (f'{num1} is greater than {num2}')\n",
    "    else:\n",
    "        return (f'{num1} is smaller than {num2}')\n",
    "print(maximum(24,-10))  \n",
    "\n",
    "\n",
    "##### Using ternary operator \n",
    "def maximum_tern(num1,num2):\n",
    "    return(f'{num1} is greater than {num2}' if num1>num2 else f'{num1} is smaller than {num2}' )\n",
    "print(maximum_tern(24,-10))\n",
    "\n"
   ]
  },
  {
   "cell_type": "code",
   "execution_count": 17,
   "id": "8f3665c1",
   "metadata": {},
   "outputs": [
    {
     "data": {
      "text/plain": [
       "'34 is greater than -10 and 13'"
      ]
     },
     "execution_count": 17,
     "metadata": {},
     "output_type": "execute_result"
    }
   ],
   "source": [
    "###Q.6\n",
    "\n",
    "# W A P which takes three numbers from the user and prints below\n",
    "# output:-\n",
    "#  1. num1 is greater than num2 and num3 if num1 is greater than num2\n",
    "# and num3\n",
    "#  2. num2 is greater than num1 and num3 if num2 is greater than num1\n",
    "# and num3\n",
    "#  3. num3 is greater than num1 and num2 if num3 is greater than num1\n",
    "# and num2\n",
    "# Note:- 1. Do this problem using if - elif - else\n",
    "#  2. Do this using ternary operator\n",
    "\n",
    "def maximum_of_3(num1,num2,num3):\n",
    "    if num1>num2 and num1>num3:\n",
    "        return (f'{num1} is greater than {num2} and {num3}')\n",
    "    elif num2>num1 and num2>num3:\n",
    "        return (f'{num2} is greater than {num1} and {num3}')\n",
    "    elif num3>num1 and num3>num2:\n",
    "        return (f'{num3} is greater than {num1} and {num2}')\n",
    "    \n",
    "maximum_of_3(-10,13,34)      \n",
    "        \n",
    "##### Using Ternary operator \n",
    "#def max_of_3_tern(num1,num2,num3):\n",
    " #return (f'{num1} is greater than {num2} and {num3}'if num1>num2 and num1>num3 f'{num2} is greater than {num1} and {num3}'elif num2>num1 and num2>num3 else f'{num3} is greater than {num1} and {num2})"
   ]
  },
  {
   "cell_type": "code",
   "execution_count": 5,
   "id": "7c310f54",
   "metadata": {},
   "outputs": [
    {
     "data": {
      "text/plain": [
       "55"
      ]
     },
     "execution_count": 5,
     "metadata": {},
     "output_type": "execute_result"
    }
   ],
   "source": [
    "#Write a Python program to find the length of the my_str using loop:-\n",
    "# Input:- 'Write a Python program to find the length of the my_str'\n",
    "# Output:- 55\n",
    "\n",
    "def length_str(y):\n",
    "    return (len(y))\n",
    "length_str('Write a Python program to find the length of the my_str')\n"
   ]
  },
  {
   "cell_type": "code",
   "execution_count": 10,
   "id": "cee0237b",
   "metadata": {},
   "outputs": [
    {
     "name": "stdout",
     "output_type": "stream",
     "text": [
      "9\n",
      "9\n"
     ]
    }
   ],
   "source": [
    "# Write a Python program to find the total number of times letter 'p'\n",
    "# is appeared in the below string using loop:-\n",
    "# Input:- 'peter piper picked a peck of pickled peppers.\\n'\n",
    "# Output:- 9\n",
    "\n",
    "def counting(y):\n",
    "    return (y.count('p'))\n",
    "print(counting('peter piper picked a peck of pickled peppers.\\n'))\n",
    "\n",
    "def counting2(y):\n",
    "    i=0\n",
    "    for k in range(len(y)):\n",
    "        if y[k]=='p':\n",
    "            i=i+1\n",
    "    return i\n",
    "\n",
    "print(counting2('peter piper picked a peck of pickled peppers.\\n'))\n"
   ]
  },
  {
   "cell_type": "code",
   "execution_count": 28,
   "id": "15c24f8e",
   "metadata": {},
   "outputs": [
    {
     "name": "stdout",
     "output_type": "stream",
     "text": [
      "0\n",
      "6\n",
      "8\n",
      "12\n",
      "21\n",
      "29\n",
      "37\n",
      "39\n",
      "40\n"
     ]
    }
   ],
   "source": [
    "# Write a Python Program, to print all the indexes of all occurences of\n",
    "# letter 'p' appeared in the string using loop:-\n",
    "# Input:- 'peter piper picked a peck of pickled peppers.'\n",
    "# Output:-\n",
    "# 0\n",
    "# 6\n",
    "# 8\n",
    "# 12\n",
    "# 21\n",
    "# 29\n",
    "# 37\n",
    "# 39\n",
    "# 40\n",
    "\n",
    "def index_of_p(y):\n",
    "    lst=[]\n",
    "    for i in range(len(y)):\n",
    "        if y[i]=='p':\n",
    "            lst.append(i)\n",
    "    return lst\n",
    "        \n",
    "        \n",
    "m=index_of_p('peter piper picked a peck of pickled peppers.')       \n",
    "for i in m:\n",
    "    print(i)"
   ]
  },
  {
   "cell_type": "code",
   "execution_count": 32,
   "id": "55463933",
   "metadata": {},
   "outputs": [
    {
     "name": "stdout",
     "output_type": "stream",
     "text": [
      "['peter', 'piper', 'picked', 'a', 'peck', 'of', 'pickled', 'peppers.']\n"
     ]
    }
   ],
   "source": [
    "# Write a python program to find below output using loop:-\n",
    "# Input:- 'peter piper picked a peck of pickled peppers.'\n",
    "# Output:- ['peter', 'piper', 'picked', 'a', 'peck', 'of', 'pickled',\n",
    "# 'peppers']\n",
    "def splitting(y):\n",
    "        return y.split()\n",
    "print(splitting('peter piper picked a peck of pickled peppers.'))\n",
    "\n",
    "# def splitting2(y):\n",
    "#         lst=[]\n",
    "#         for i in y:\n",
    "#             lst.append(i)\n",
    "#         return lst\n",
    "# splitting2('peter piper picked a peck of pickled peppers.')"
   ]
  },
  {
   "cell_type": "code",
   "execution_count": 59,
   "id": "0f9032ad",
   "metadata": {},
   "outputs": [
    {
     "data": {
      "text/plain": [
       "'peppers. peter piper picked a peck of pickled '"
      ]
     },
     "execution_count": 59,
     "metadata": {},
     "output_type": "execute_result"
    }
   ],
   "source": [
    " #Write a python program to find below output using loop:-\n",
    "    \n",
    "# Input:- 'peter piper picked a peck of pickled peppers.'\n",
    "# Output:- 'peppers pickled of peck a picked piper peter'\n",
    "def reverse_of_str(y):\n",
    "    a=y.split()\n",
    "    l=a[::-1]\n",
    "    n=''\n",
    "    for i in range(len(l)):\n",
    "        n=n+l[-i]+' '\n",
    "    return n\n",
    "reverse_of_str('peter piper picked a peck of pickled peppers.')    "
   ]
  },
  {
   "cell_type": "code",
   "execution_count": 49,
   "id": "1ec0d20b",
   "metadata": {},
   "outputs": [
    {
     "name": "stdout",
     "output_type": "stream",
     "text": [
      ".sreppep delkcip fo kcep a dekcip repip retep\n"
     ]
    }
   ],
   "source": [
    "# Write a python program to find below output using loop:-\n",
    "# Input:- 'peter piper picked a peck of pickled peppers.'\n",
    "# Output:- '.sreppep delkcip fo kcep a dekcip repip retep'\n",
    "def reverse_of_str(y):\n",
    "    l=''\n",
    "    for i in range(len(y)):\n",
    "        l=l+(y[len(y)-1-i])\n",
    "    return l\n",
    "print(reverse_of_str('peter piper picked a peck of pickled peppers.'))        \n",
    "        \n"
   ]
  },
  {
   "cell_type": "code",
   "execution_count": 65,
   "id": "630208d9",
   "metadata": {},
   "outputs": [
    {
     "name": "stdout",
     "output_type": "stream",
     "text": [
      "[(0, 'p'), (1, 'e'), (2, 't'), (3, 'e'), (4, 'r'), (5, ' '), (6, 'p'), (7, 'i'), (8, 'p'), (9, 'e'), (10, 'r'), (11, ' '), (12, 'p'), (13, 'i'), (14, 'c'), (15, 'k'), (16, 'e'), (17, 'd'), (18, ' '), (19, 'a'), (20, ' '), (21, 'p'), (22, 'e'), (23, 'c'), (24, 'k'), (25, ' '), (26, 'o'), (27, 'f'), (28, ' '), (29, 'p'), (30, 'i'), (31, 'c'), (32, 'k'), (33, 'l'), (34, 'e'), (35, 'd'), (36, ' '), (37, 'p'), (38, 'e'), (39, 'p'), (40, 'p'), (41, 'e'), (42, 'r'), (43, 's')]\n",
      "['s', 'r', 'e', 'p', 'p', 'e', 'p', ' ', 'd', 'e', 'l', 'k', 'c', 'i', 'p', ' ', 'f', 'o', ' ', 'k', 'c', 'e', 'p', ' ', 'a', ' ', 'd', 'e', 'k', 'c', 'i', 'p', ' ', 'r', 'e', 'p', 'i', 'p', ' ', 'r', 'e', 't', 'e', 'p']\n",
      "sreppep delkcip fo kcep a dekcip repip retep\n",
      "['retep', 'repip', 'dekcip', 'a', 'kcep', 'fo', 'delkcip', 'sreppep']\n",
      "retep repip dekcip a kcep fo delkcip sreppep\n"
     ]
    }
   ],
   "source": [
    "# Write a python program to find below output using loop:-\n",
    "# Input:- 'peter piper picked a peck of pickled peppers.'\n",
    "# Output:- 'retep repip dekcip a kcep fo delkcip sreppep'\n",
    "\n",
    "\n",
    "# def reverse_of_w(y):\n",
    "y='peter piper picked a peck of pickled peppers'\n",
    "lst=[]\n",
    "for i in enumerate(y):\n",
    "    lst.append(i)\n",
    "print(lst)\n",
    "lst2=[]\n",
    "for j in range(len(lst)):\n",
    "    lst2.append(lst[-j-1][1])\n",
    "print(lst2)\n",
    "final_str=''.join(lst2)\n",
    "print(final_str) \n",
    "my_final_lst=final_str.split()\n",
    "my_final_lst2=my_final_lst.reverse() \n",
    "print(my_final_lst)\n",
    "my_final_str=' '.join(my_final_lst)\n",
    "print(my_final_str)"
   ]
  },
  {
   "cell_type": "code",
   "execution_count": 24,
   "id": "7859f1c1",
   "metadata": {},
   "outputs": [
    {
     "data": {
      "text/plain": [
       "2"
      ]
     },
     "execution_count": 24,
     "metadata": {},
     "output_type": "execute_result"
    }
   ],
   "source": [
    "str=(1,2)\n",
    "str[1]"
   ]
  },
  {
   "cell_type": "code",
   "execution_count": null,
   "id": "3a188bbc",
   "metadata": {},
   "outputs": [],
   "source": []
  },
  {
   "cell_type": "code",
   "execution_count": 11,
   "id": "3d0f3f5c",
   "metadata": {},
   "outputs": [
    {
     "data": {
      "text/plain": [
       "' Peter Piper Picked A Peck Of Pickled Peppers.'"
      ]
     },
     "execution_count": 11,
     "metadata": {},
     "output_type": "execute_result"
    }
   ],
   "source": [
    "# . Write a python program to find below output using loop:-\n",
    "# Input:- 'peter piper picked a peck of pickled peppers.'\n",
    "# Output:- 'Peter Piper Picked A Peck Of Pickled Peppers\n",
    "\n",
    "def capitalize(y):\n",
    "    m=''\n",
    "    for i in range(len(y)):\n",
    "        if y[i-1]==' ':\n",
    "            m=m+y[i].capitalize()\n",
    "        else:\n",
    "            m=m+y[i]\n",
    "    return m\n",
    "capitalize(' peter piper picked a peck of pickled peppers.')           \n",
    "        \n",
    "    "
   ]
  },
  {
   "cell_type": "code",
   "execution_count": 4,
   "id": "391540e9",
   "metadata": {},
   "outputs": [
    {
     "data": {
      "text/plain": [
       "'Peter piper picked a peck of pickled peppers.'"
      ]
     },
     "execution_count": 4,
     "metadata": {},
     "output_type": "execute_result"
    }
   ],
   "source": [
    "# Write a python program to find below output using loop:-\n",
    "# Input:- 'Peter Piper Picked A Peck Of Pickled Peppers.'\n",
    "# Output:- 'Peter piper picked a peck of pickled peppers'\n",
    "\n",
    "def capitalize_w(y):\n",
    "    m=''\n",
    "    for i in range(len(y)):\n",
    "        if y[i-1]==' ':\n",
    "            m=m+y[i].casefold()\n",
    "        else:\n",
    "            m=m+y[i]\n",
    "    return m\n",
    "capitalize_w('Peter Piper Picked A Peck Of Pickled Peppers.')\n",
    "\n",
    "    "
   ]
  },
  {
   "cell_type": "code",
   "execution_count": 22,
   "id": "ce9a0e25",
   "metadata": {},
   "outputs": [
    {
     "data": {
      "text/plain": [
       "29"
      ]
     },
     "execution_count": 22,
     "metadata": {},
     "output_type": "execute_result"
    }
   ],
   "source": [
    "# . Write a python program to implement index method using loop. If\n",
    "# sub_str is found in my_str then it will print the index\n",
    "# of first occurrence of first character of matching string in my_str:-\n",
    "# Input:- my_str = 'Peter Piper Picked A Peck Of Pickled Peppers.',\n",
    "# sub_str = 'Pickl'\n",
    "# Output:- 29\n",
    "\n",
    "def sub_string_find_index(my_str,sub_str):\n",
    "    for i in range(len(my_str)-len(sub_str)):\n",
    "        if my_str[i]==sub_str[0]:\n",
    "            temp=''\n",
    "            for j in range(i,i+len(sub_str)):\n",
    "                temp=temp+my_str[j]\n",
    "            if temp==sub_str:\n",
    "                return i\n",
    "    \n",
    "sub_string_find_index('Peter Piper Picked A Peck Of Pickled Peppers.','Pickl')   "
   ]
  },
  {
   "cell_type": "code",
   "execution_count": 5,
   "id": "6ad0c3ab",
   "metadata": {},
   "outputs": [
    {
     "name": "stdout",
     "output_type": "stream",
     "text": [
      "['Peter', 'Piper', 'Picked', 'A', 'Pack', 'Of', 'Pickled', 'Peppers.']\n",
      "Peter Piper Picked A Pack Of Pickled Peppers.\n"
     ]
    }
   ],
   "source": [
    "#  Write a python program to implement replace method using loop. If\n",
    "# sub_str is found in my_str then it will replace the first\n",
    "# occurrence of sub_str with new_str else it will will print sub_str not\n",
    "# found:-\n",
    "# Input:- my_str = 'Peter Piper Picked A Peck Of Pickled Peppers.',\n",
    "# sub_str = 'Peck', new_str = 'Pack'\n",
    "# Output:- 'Peter Piper Picked A Pack Of Pickled Peppers.'\n",
    "def replacing(my_str,sub_str):\n",
    "    lst=my_str.split()\n",
    "    lst2=[]\n",
    "    for i in range(len(lst)):\n",
    "        if lst[i]==sub_str:\n",
    "            lst2.append('Pack')\n",
    "        else:\n",
    "            lst2.append(lst[i])\n",
    "    print(lst2)\n",
    "    my_str2=' '.join(lst2)\n",
    "    print(my_str2)\n",
    "replacing('Peter Piper Picked A Peck Of Pickled Peppers.','Peck')\n",
    "\n"
   ]
  },
  {
   "cell_type": "code",
   "execution_count": 15,
   "id": "8429533c",
   "metadata": {},
   "outputs": [
    {
     "name": "stdout",
     "output_type": "stream",
     "text": [
      "['*****', '*****', '******', '*', 'Peck', '**', '*******', '********']\n",
      "*****************Peck*****************\n"
     ]
    }
   ],
   "source": [
    "# Write a python program to find below output (implements rjust and\n",
    "# ljust) using loop:-\n",
    "# Input:- 'Peter Piper Picked A Peck Of Pickled Peppers.', sub_str =\n",
    "# 'Peck',\n",
    "# Output:- '*********************Peck********************\n",
    "def rjust(my_str,sub_str):\n",
    "    lst=my_str.split()\n",
    "    lst2=[]\n",
    "    for i in range(len(lst)):\n",
    "        if lst[i]==sub_str:\n",
    "            lst2.append(sub_str)\n",
    "        else:\n",
    "            lst2.append('*'*(len(lst[i])))\n",
    "    print(lst2)\n",
    "    my_str2=''.join(lst2)\n",
    "    print(my_str2)\n",
    "rjust('Peter Piper Picked A Peck Of Pickled Peppers.','Peck')            \n",
    "    "
   ]
  },
  {
   "cell_type": "code",
   "execution_count": 1,
   "id": "9c5a8756",
   "metadata": {},
   "outputs": [
    {
     "name": "stdout",
     "output_type": "stream",
     "text": [
      "['This', 'is', 'python class']\n"
     ]
    }
   ],
   "source": [
    "s='This is python class'\n",
    "sep='is'\n",
    "res=[]\n",
    "start=0\n",
    "i=0\n",
    "while (i<len(s)):\n",
    "    if s[i]==' ':\n",
    "        res.append(s[start:i])\n",
    "        start=i+1\n",
    "        if res[-1]==sep:\n",
    "            res.append(s[start:])\n",
    "            break\n",
    "    if i==len(s)-1:\n",
    "        res.append(s[start:])\n",
    "        \n",
    "    i=i+1\n",
    "print(res)"
   ]
  },
  {
   "cell_type": "code",
   "execution_count": null,
   "id": "69b38d69",
   "metadata": {},
   "outputs": [],
   "source": []
  }
 ],
 "metadata": {
  "kernelspec": {
   "display_name": "Python 3 (ipykernel)",
   "language": "python",
   "name": "python3"
  },
  "language_info": {
   "codemirror_mode": {
    "name": "ipython",
    "version": 3
   },
   "file_extension": ".py",
   "mimetype": "text/x-python",
   "name": "python",
   "nbconvert_exporter": "python",
   "pygments_lexer": "ipython3",
   "version": "3.9.12"
  }
 },
 "nbformat": 4,
 "nbformat_minor": 5
}
