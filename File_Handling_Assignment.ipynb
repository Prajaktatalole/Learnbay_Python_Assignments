{
 "cells": [
  {
   "cell_type": "code",
   "execution_count": 2,
   "metadata": {},
   "outputs": [
    {
     "name": "stdout",
     "output_type": "stream",
     "text": [
      "my name is poem.txt\n"
     ]
    }
   ],
   "source": [
    "# Write a function in python to read the content from \n",
    "# a text file \"poem.txt\" line by line and display the same on screen.\n",
    "f=open('poem.txt','r+')\n",
    "\n",
    "f.write('my name is poem.txt') \n",
    "for i in f.readlines():\n",
    "    print(i)"
   ]
  },
  {
   "cell_type": "code",
   "execution_count": 9,
   "metadata": {},
   "outputs": [
    {
     "name": "stdout",
     "output_type": "stream",
     "text": [
      "['A boy is playing there.\\n', 'There is a playground.\\n', 'An aeroplane is in the sky.\\n', 'The sky is pink.\\n', 'Alphabets and numbers are allowed in the password.\\n']\n",
      "3\n"
     ]
    }
   ],
   "source": [
    "# Write a function in python to count the number of lines \n",
    "# from a text file \"story.txt\" which is not starting with an alphabet \"T\". \n",
    "\n",
    "# Example: If the file \"story.txt\" contains the following lines: A boy is playing there.\n",
    "# There is a playground.\n",
    "# An aeroplane is in the sky.\n",
    "# The sky is pink.\n",
    "# Alphabets and numbers are allowed in the password.\n",
    "# The function should display the output as 3\n",
    "def counting_line():\n",
    "    f=open('story.txt','r+')\n",
    "    count=0\n",
    "    a=f.readlines()\n",
    "    for x in a:\n",
    "        if x[0]!='T':\n",
    "            count=count+1\n",
    "        else:\n",
    "            count\n",
    "    \n",
    "    f.close()\n",
    "    print(a)\n",
    "    print(count)\n",
    "counting_line()   "
   ]
  },
  {
   "cell_type": "code",
   "execution_count": 17,
   "metadata": {},
   "outputs": [
    {
     "name": "stdout",
     "output_type": "stream",
     "text": [
      "my file contains how mant words please mention that \n",
      "my batch is 8th july batch.\n",
      "\n",
      "['my', 'file', 'contains', 'how', 'mant', 'words', 'please', 'mention', 'that', 'my', 'batch', 'is', '8th', 'july', 'batch.']\n",
      "15\n"
     ]
    }
   ],
   "source": [
    "# Write a function in Python to count and display the total number of words in a text file.\n",
    "def counting_words():\n",
    "    \n",
    "    with open('sample.txt','r+') as f:\n",
    "        data=f.read()\n",
    "        print(data)\n",
    "        lst=data.split()\n",
    "        print(lst)\n",
    "        print(len(lst))\n",
    "counting_words()   \n"
   ]
  },
  {
   "cell_type": "code",
   "execution_count": 1,
   "metadata": {},
   "outputs": [
    {
     "name": "stdout",
     "output_type": "stream",
     "text": [
      "\n",
      "[]\n",
      "0\n"
     ]
    }
   ],
   "source": [
    "# Write a function in Python to read lines from a text file \"notes.txt\". \n",
    "# Your function should find and display the occurrence of the word \"the\".\n",
    "\n",
    "# For example: If the content of the file is:\n",
    "# \"India is the fastest-growing economy. India is looking for more investments around the globe. The whole world is looking at India as a great market. Most of the Indians can foresee the heights that India is capable of reaching.\"\n",
    "\n",
    "# The output should be 5.\n",
    "with open('not.txt','w+') as f:\n",
    "    \n",
    "    f.write('India is the fastest-growing economy. India is looking for more investments around the globe The whole world is looking at India as a great marketMost of the Indians can foresee the heights that India is capable of reaching')\n",
    "    data=f.read()\n",
    "    lst=data.split()\n",
    "    print(data)\n",
    "    print(lst)\n",
    "    count=0\n",
    "    for i in data:\n",
    "        if i=='the':\n",
    "            count=count+1\n",
    "    print(count)\n",
    "        "
   ]
  },
  {
   "cell_type": "code",
   "execution_count": 10,
   "metadata": {},
   "outputs": [
    {
     "name": "stdout",
     "output_type": "stream",
     "text": [
      "India is the fastest-growing economy. India is looking for more investments around the globe The whole world is looking at India as a great marketMost of the Indians can foresee the heights that India is capable of reaching\n",
      "['India', 'is', 'the', 'fastest-growing', 'economy.', 'India', 'is', 'looking', 'for', 'more', 'investments', 'around', 'the', 'globe', 'The', 'whole', 'world', 'is', 'looking', 'at', 'India', 'as', 'a', 'great', 'marketMost', 'of', 'the', 'Indians', 'can', 'foresee', 'the', 'heights', 'that', 'India', 'is', 'capable', 'of', 'reaching']\n",
      "4\n"
     ]
    }
   ],
   "source": [
    "f=open('note.txt','r+')\n",
    "    \n",
    "f.write('India is the fastest-growing economy. India is looking for more investments around the globe The whole world is looking at India as a great marketMost of the Indians can foresee the heights that India is capable of reaching')\n",
    "data=f.read()\n",
    "lst=data.split()\n",
    "print(data)\n",
    "print(lst)\n",
    "count=0\n",
    "for i in lst:\n",
    "    \n",
    "    if i=='the':\n",
    "        \n",
    "        count=count+1\n",
    "print(count)"
   ]
  },
  {
   "cell_type": "code",
   "execution_count": 3,
   "metadata": {},
   "outputs": [
    {
     "name": "stdout",
     "output_type": "stream",
     "text": [
      "5\n"
     ]
    }
   ],
   "source": [
    "print(2+3)"
   ]
  },
  {
   "cell_type": "code",
   "execution_count": 11,
   "metadata": {},
   "outputs": [
    {
     "name": "stdout",
     "output_type": "stream",
     "text": [
      "A boy is playing there.\n",
      "There is a playground.\n",
      "An aeroplane is in the sky.\n",
      "The sky is pink.\n",
      "Alphabets and numbers are allowed in the password.\n",
      "\n",
      "['A', 'boy', 'is', 'playing', 'there.', 'There', 'is', 'a', 'playground.', 'An', 'aeroplane', 'is', 'in', 'the', 'sky.', 'The', 'sky', 'is', 'pink.', 'Alphabets', 'and', 'numbers', 'are', 'allowed', 'in', 'the', 'password.']\n",
      "A\n",
      "boy\n",
      "is\n",
      "is\n",
      "a\n",
      "An\n",
      "is\n",
      "in\n",
      "the\n",
      "The\n",
      "sky\n",
      "is\n",
      "and\n",
      "are\n",
      "in\n",
      "the\n"
     ]
    }
   ],
   "source": [
    "# Write a function display_words() in python to read lines from a text file \"story.txt\", \n",
    "# and display those words, which are less than 4 characters.\n",
    "\n",
    "def display_words():\n",
    "    c=0\n",
    "    file=open('story.txt','r')\n",
    "    line=file.read()\n",
    "    word=line.split()\n",
    "    print(line)\n",
    "    print(word)\n",
    "    for w in word:\n",
    "        if len(w)<4:\n",
    "            print(w)\n",
    "    file.close()\n",
    "display_words()    "
   ]
  },
  {
   "cell_type": "code",
   "execution_count": 27,
   "metadata": {},
   "outputs": [
    {
     "name": "stdout",
     "output_type": "stream",
     "text": [
      "\n",
      "0\n",
      "0\n"
     ]
    }
   ],
   "source": [
    "# Write a function in Python to count the words \"this\" and \"these\" present in a text file \"article.txt\". \n",
    "# [Note that the words \"this\" and \"these\" are complete words] \n",
    "file=open('article.txt','r+')\n",
    "file.write('in my article file i have to fnd how many these and this word are there and give these putput and this output and this')\n",
    "data=f.read()\n",
    "lst=data.split()\n",
    "print(data)\n",
    "count=0\n",
    "count2=0\n",
    "for i in lst :\n",
    "    if i=='this':\n",
    "        count=count+1\n",
    "    elif i=='these':\n",
    "        count2=count2+1\n",
    "print(count)\n",
    "print(count2)\n",
    "file.close()\n",
    "        \n",
    "            \n",
    "\n",
    "\n"
   ]
  },
  {
   "cell_type": "code",
   "execution_count": 23,
   "metadata": {},
   "outputs": [
    {
     "name": "stdout",
     "output_type": "stream",
     "text": [
      "6\n"
     ]
    }
   ],
   "source": [
    "# Write a function in Python to count words in a text file those are ending with alphabet \"e\"\n",
    "def count_words():\n",
    "    file = open(\"story.txt\",\"r\")\n",
    "    count = 0\n",
    "    data = file.read()\n",
    "    words = data.split()\n",
    "    for word in words:\n",
    "        if word[-1] == 'e':\n",
    "            count+=1\n",
    "    print(count)\n",
    "    file.close()\n",
    "\n",
    "count_words()\n"
   ]
  },
  {
   "cell_type": "code",
   "execution_count": 28,
   "metadata": {},
   "outputs": [
    {
     "name": "stdout",
     "output_type": "stream",
     "text": [
      "5\n"
     ]
    }
   ],
   "source": [
    "# Write a function in Python to count uppercase character in a text file.\n",
    "def count_letter():\n",
    "    file = open(\"story.txt\",\"r\")\n",
    "    data = file.read()\n",
    "    count = 0\n",
    "    for letter in data:\n",
    "        if letter.isupper():\n",
    "            count+=1\n",
    "    print(count)\n",
    "    file.close()\n",
    "\n",
    "count_letter()\n",
    "\n"
   ]
  },
  {
   "cell_type": "code",
   "execution_count": null,
   "metadata": {},
   "outputs": [],
   "source": [
    "# A text file named \"matter.txt\" contains some text, which needs to be displayed such that \n",
    "# every next character is separated by a symbol \"#\". \n",
    "# Write a function definition for hash_display() in Python that would display \n",
    "# the entire content of the file matter.txt in the desired format.\n",
    "\n",
    "# Example :\n",
    "# If the file matter.txt has the following content stored in it :\n",
    "# THE WORLD IS ROUND\n",
    "\n",
    "# The function hash_display() should display the following content :\n",
    "# T#H#E# #W#O#R#L#D# #I#S# #R#O#U#N#D#\n",
    "\n",
    "\n",
    "\n",
    "\n",
    "\n",
    "\n"
   ]
  },
  {
   "cell_type": "code",
   "execution_count": null,
   "metadata": {},
   "outputs": [],
   "source": [
    "# Aditi has used a text editing software to type some text. After saving the article as WORDS.TXT, \n",
    "# she realised that she has wrongly typed alphabet J in place of alphabet I everywhere in the article.\n",
    "# Write a function definition for JTOI() in Python that would display the corrected version of entire content \n",
    "# of the file WORDS.TXT with all the alphabets \"J\" to be displayed as an alphabet \"I\" on screen.\n",
    "\n",
    "# Note: Assuming that WORD.TXT does not contain any J alphabet otherwise.\n",
    "\n",
    "# Example:\n",
    "# If Aditi has stored the following content in the file WORDS.TXT:\n",
    "# WELL, THJS JS A WORD BY JTSELF. YOU COULD STRETCH THJS TO BE A SENTENCE\n",
    "# The function JTOI() should display the following content:\n",
    "# WELL, THIS IS A WORD BY ITSELF. YOU COULD STRETCH THIS TO BE A SENTENCE"
   ]
  },
  {
   "cell_type": "code",
   "execution_count": null,
   "metadata": {},
   "outputs": [],
   "source": [
    "# Write a function AMCount() in Python, which should read each character of a text file STORY.TXT, \n",
    "# should count and display the occurance of alphabets A and M (including small cases a and m too).\n",
    "# For Example:\n",
    "# If the file content is as follows:\n",
    "# Updated information\n",
    "# As simplified by official websites.\n",
    "# The EUCount() function should display the output as:\n",
    "# A or a:4\n",
    "# M or m :2"
   ]
  },
  {
   "cell_type": "code",
   "execution_count": null,
   "metadata": {},
   "outputs": [],
   "source": [
    "# A binary file \"Book.dat\" has structure [BookNo, Book_Name, Author, Price].\n",
    "# i. Write a user defined function createFile() to input data for a record and add to Book.dat.\n",
    "# ii. Write a function countRec(Author) in Python which accepts the Author name as parameter \n",
    "# and count and return number of books by the given Author are stored in the binary file \"Book.dat\""
   ]
  },
  {
   "cell_type": "code",
   "execution_count": null,
   "metadata": {},
   "outputs": [],
   "source": [
    "# A binary file \"STUDENT.DAT\" has structure (admission_number, Name, Percentage). \n",
    "# Write a function count_rec() in Python that would read contents of the file \"STUDENT.DAT\" \n",
    "# and display the details of those students whose percentage is above 75. \n",
    "# Also display number of students scoring above 75%"
   ]
  },
  {
   "cell_type": "code",
   "execution_count": null,
   "metadata": {},
   "outputs": [],
   "source": [
    "# Given a binary file employee.dat, created using dictionary object having keys: (empcode, name, and salary)\n",
    "\n",
    "# Write a python function that add one more record at the end of file.\n",
    "# Write a python function that display all employee records whose salary is more that 30000\n"
   ]
  },
  {
   "cell_type": "code",
   "execution_count": null,
   "metadata": {},
   "outputs": [],
   "source": [
    "# Write a function to search and display details of student whose rollno is '1005' \n",
    "# from the binary file student.dat having structure [rollno, name, class and fees]."
   ]
  },
  {
   "cell_type": "code",
   "execution_count": null,
   "metadata": {},
   "outputs": [],
   "source": [
    "# A binary file school.dat has structure(rollno, name, class, fees)\n",
    "\n",
    "# Write a definition for function total_fees( ) that reads each object of file and calculate \n",
    "# the total fees of students and display the same."
   ]
  },
  {
   "cell_type": "code",
   "execution_count": null,
   "metadata": {},
   "outputs": [],
   "source": [
    "# A binary file players.dat, containing records of following list format: [code, name, country and total runs]\n",
    "\n",
    "# 1. Write a python function that display all records where player name starts from 'A'\n",
    "# 2. Write a python function that accept country as an argument and count and display \n",
    "#     the number of players of that country.\n",
    "# 3. Write a python function that add one record at the end of file."
   ]
  },
  {
   "cell_type": "code",
   "execution_count": 1,
   "metadata": {
    "ExecuteTime": {
     "end_time": "2021-05-29T10:46:59.140338Z",
     "start_time": "2021-05-29T10:46:59.135100Z"
    }
   },
   "outputs": [],
   "source": [
    "# Given a binary file game.dat, containing records of following list format: [game_name, participants]\n",
    "\n",
    "# Write a function in Python that would read contents from the file game.dat and \n",
    "# creates a file named basket.dat copying only those records from game.dat where the game name is \"Basket Ball\""
   ]
  }
 ],
 "metadata": {
  "kernelspec": {
   "display_name": "Python 3 (ipykernel)",
   "language": "python",
   "name": "python3"
  },
  "language_info": {
   "codemirror_mode": {
    "name": "ipython",
    "version": 3
   },
   "file_extension": ".py",
   "mimetype": "text/x-python",
   "name": "python",
   "nbconvert_exporter": "python",
   "pygments_lexer": "ipython3",
   "version": "3.9.12"
  }
 },
 "nbformat": 4,
 "nbformat_minor": 2
}
