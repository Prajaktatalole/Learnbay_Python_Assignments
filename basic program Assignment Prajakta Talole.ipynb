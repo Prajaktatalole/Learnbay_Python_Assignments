{
 "cells": [
  {
   "cell_type": "code",
   "execution_count": 1,
   "id": "fd4a8f7b",
   "metadata": {},
   "outputs": [
    {
     "name": "stdout",
     "output_type": "stream",
     "text": [
      "hello world\n"
     ]
    }
   ],
   "source": [
    "#program to print hello world\n",
    "\n",
    "print('hello world')"
   ]
  },
  {
   "cell_type": "code",
   "execution_count": 2,
   "id": "f8dcc0ff",
   "metadata": {},
   "outputs": [
    {
     "name": "stdout",
     "output_type": "stream",
     "text": [
      "10\n",
      "(10, 3)\n",
      "True\n",
      "praju\n",
      "<class 'bool'>\n"
     ]
    }
   ],
   "source": [
    "# Declare the following variables:\n",
    "# Int, Float, Boolean, String & print its value\n",
    "a=10\n",
    "b=10,3\n",
    "c=True\n",
    "d='praju'\n",
    "print(a,b,c,d,sep='\\n')\n",
    "print(type(c))"
   ]
  },
  {
   "cell_type": "code",
   "execution_count": 3,
   "id": "23c64178",
   "metadata": {},
   "outputs": [
    {
     "data": {
      "text/plain": [
       "6.0"
      ]
     },
     "execution_count": 3,
     "metadata": {},
     "output_type": "execute_result"
    }
   ],
   "source": [
    "#Program to calculate the Area Of Triangle:\n",
    "def area_of_triangle(b,h):\n",
    "    a=1/2*(b*h)\n",
    "    return a\n",
    "area_of_triangle(3,4)\n",
    "    "
   ]
  },
  {
   "cell_type": "code",
   "execution_count": 4,
   "id": "03f28a8a",
   "metadata": {},
   "outputs": [
    {
     "data": {
      "text/plain": [
       "('swapped values of a and b are ', {3}, {2})"
      ]
     },
     "execution_count": 4,
     "metadata": {},
     "output_type": "execute_result"
    }
   ],
   "source": [
    "#Program to swap two variables\n",
    "def swapping(a,b):\n",
    "    temp=a\n",
    "    a=b\n",
    "    b=temp\n",
    "    \n",
    "    return('swapped values of a and b are ', {a},{b})\n",
    "swapping(2,3)"
   ]
  },
  {
   "cell_type": "code",
   "execution_count": 5,
   "id": "f647698e",
   "metadata": {},
   "outputs": [
    {
     "name": "stdout",
     "output_type": "stream",
     "text": [
      "enter the integer23\n"
     ]
    },
    {
     "data": {
      "text/plain": [
       "'23 is odd'"
      ]
     },
     "execution_count": 5,
     "metadata": {},
     "output_type": "execute_result"
    }
   ],
   "source": [
    "# python program to check whether no is even or odd \n",
    "a=int(input('enter the integer'))\n",
    "def even_odd(a):\n",
    "    if a%2==0:\n",
    "        return(f'{a} is even ')\n",
    "    else:\n",
    "        return (f'{a} is odd')\n",
    "even_odd(a)"
   ]
  },
  {
   "cell_type": "code",
   "execution_count": 6,
   "id": "cc0d99ea",
   "metadata": {},
   "outputs": [
    {
     "data": {
      "text/plain": [
       "'23 is prime no'"
      ]
     },
     "execution_count": 6,
     "metadata": {},
     "output_type": "execute_result"
    }
   ],
   "source": [
    "# python program to check whether no prime:\n",
    "# a=int(input('enter the integer'))\n",
    "def prime_no(a):\n",
    "    for i in range(2,int(a/2)):\n",
    "        if a%i==0:\n",
    "            return (f'{a} is not prime number')\n",
    "        else:\n",
    "            return (f'{a} is prime no')\n",
    "prime_no(23)"
   ]
  },
  {
   "cell_type": "code",
   "execution_count": 7,
   "id": "c0c8e148",
   "metadata": {},
   "outputs": [
    {
     "data": {
      "text/plain": [
       "120"
      ]
     },
     "execution_count": 7,
     "metadata": {},
     "output_type": "execute_result"
    }
   ],
   "source": [
    "# Python program to find the factorial of a number:\n",
    "def fact(a):\n",
    "        fact=1\n",
    "        while a>0:\n",
    "            fact=fact*a\n",
    "            a=a-1\n",
    "        return fact\n",
    "fact(5)"
   ]
  },
  {
   "cell_type": "code",
   "execution_count": 8,
   "id": "0d99e03e",
   "metadata": {},
   "outputs": [
    {
     "data": {
      "text/plain": [
       "4321"
      ]
     },
     "execution_count": 8,
     "metadata": {},
     "output_type": "execute_result"
    }
   ],
   "source": [
    "#Program to reverse a given number:\n",
    "def reversing(a):\n",
    "    rev_no=0\n",
    "    while a>0:\n",
    "        digit=a%10\n",
    "        rev_no=rev_no*10+digit\n",
    "        a=a//10\n",
    "    return rev_no\n",
    "reversing(1234)\n",
    "        \n",
    "        "
   ]
  },
  {
   "cell_type": "code",
   "execution_count": 9,
   "id": "324643df",
   "metadata": {},
   "outputs": [
    {
     "data": {
      "text/plain": [
       "55"
      ]
     },
     "execution_count": 9,
     "metadata": {},
     "output_type": "execute_result"
    }
   ],
   "source": [
    "#Program to find out the sum of Natural numbers\n",
    "def sum(n):\n",
    "    sum=0\n",
    "    while n>0:\n",
    "        sum=sum+n\n",
    "        n=n-1\n",
    "    return sum\n",
    "sum(10)"
   ]
  },
  {
   "cell_type": "code",
   "execution_count": 10,
   "id": "8562b1b0",
   "metadata": {},
   "outputs": [
    {
     "data": {
      "text/plain": [
       "'ujarP'"
      ]
     },
     "execution_count": 10,
     "metadata": {},
     "output_type": "execute_result"
    }
   ],
   "source": [
    "#Program to reverse a string without using \n",
    "#recursion:\n",
    "def reversing_of_str(my_str):\n",
    "    return my_str[::-1]\n",
    "reversing_of_str('Praju')"
   ]
  },
  {
   "cell_type": "code",
   "execution_count": 11,
   "id": "ecee8f39",
   "metadata": {},
   "outputs": [
    {
     "data": {
      "text/plain": [
       "'NAYAN is palindrome'"
      ]
     },
     "execution_count": 11,
     "metadata": {},
     "output_type": "execute_result"
    }
   ],
   "source": [
    "#Program to check if string is palindrome or not:\n",
    "def palindrome(my_str):\n",
    "    rev_str=my_str[::-1]\n",
    "    if rev_str==my_str:\n",
    "        return (f'{my_str} is palindrome')\n",
    "    else:\n",
    "        return (f'{my_str} is not palindrome')\n",
    "palindrome('NAYAN')"
   ]
  },
  {
   "cell_type": "code",
   "execution_count": 12,
   "id": "09d68b70",
   "metadata": {},
   "outputs": [
    {
     "name": "stdout",
     "output_type": "stream",
     "text": [
      "5\n",
      "3\n"
     ]
    }
   ],
   "source": [
    "# Python Program to Count the Number of Vowels \n",
    "# in a String\n",
    "\n",
    "def counting_vowels(my_str):\n",
    "    k=0\n",
    "    for i in range(len(my_str)):\n",
    "        \n",
    "        if my_str[i]=='a':\n",
    "            k=k+1\n",
    "        elif my_str[i]=='e':\n",
    "            k=k+1\n",
    "        elif my_str[i]=='i':\n",
    "            k=k+1\n",
    "        elif my_str[i]=='o':\n",
    "            k=k+1\n",
    "        elif my_str[i]=='u':\n",
    "            k=k+1\n",
    "        else:\n",
    "            k\n",
    "    return k\n",
    "print(counting_vowels('aeiou'))\n",
    "print(counting_vowels('Prajakta'))"
   ]
  },
  {
   "cell_type": "code",
   "execution_count": 13,
   "id": "5a511d76",
   "metadata": {},
   "outputs": [
    {
     "name": "stdout",
     "output_type": "stream",
     "text": [
      "enter the 1st string'Praju\n",
      "enter the 2nd stringTalole\n",
      "Talole is larger than 'Praju\n"
     ]
    }
   ],
   "source": [
    "# Input Two Strings and Display the Larger String \n",
    "# without Using Built-in Functions:\n",
    "my_str1=input('enter the 1st string')\n",
    "my_str2=input('enter the 2nd string')\n",
    "if len(my_str1)>len(my_str2):\n",
    "    print(f'{my_str1} is larger than {my_str2}')\n",
    "else:\n",
    "    print(f'{my_str2} is larger than {my_str1}')\n",
    "    "
   ]
  },
  {
   "cell_type": "code",
   "execution_count": null,
   "id": "720ccb8a",
   "metadata": {},
   "outputs": [],
   "source": [
    "\n"
   ]
  },
  {
   "cell_type": "code",
   "execution_count": 14,
   "id": "3c4ec0be",
   "metadata": {},
   "outputs": [
    {
     "name": "stdout",
     "output_type": "stream",
     "text": [
      "enter the stringpraju1234567\n",
      "7\n",
      "5\n"
     ]
    }
   ],
   "source": [
    "#Count the number of digits & letter in a string:\n",
    "a=input('enter the string')\n",
    "m=n=0\n",
    "for i in a:\n",
    "    if i.isdigit():\n",
    "        m=m+1\n",
    "    elif i.isalpha():\n",
    "        n=n+1\n",
    "    else:\n",
    "        pass\n",
    "print(m)\n",
    "print(n) "
   ]
  },
  {
   "cell_type": "code",
   "execution_count": 15,
   "id": "02d6c979",
   "metadata": {},
   "outputs": [
    {
     "name": "stdout",
     "output_type": "stream",
     "text": [
      "enter the stringPrajuWhere\n",
      "8\n"
     ]
    }
   ],
   "source": [
    "# Count Number of Lowercase Characters in a \n",
    "# String:\n",
    "a=input('enter the string')\n",
    "m=0\n",
    "for i in a:\n",
    "    if i.islower():\n",
    "        m=m+1\n",
    "print(m)"
   ]
  },
  {
   "cell_type": "code",
   "execution_count": 16,
   "id": "a2a2899f",
   "metadata": {},
   "outputs": [
    {
     "name": "stdout",
     "output_type": "stream",
     "text": [
      "enter the stringPrajakta  Vijay Talole\n",
      "enter the sub_strPraj\n",
      "yes\n"
     ]
    }
   ],
   "source": [
    "# Program to check if a Substring is Present in a \n",
    "# Given String\n",
    "a=input('enter the string')\n",
    "b=input('enter the sub_str')\n",
    "if b in a:\n",
    "    print('yes')\n",
    "else:\n",
    "    print('no')"
   ]
  },
  {
   "cell_type": "code",
   "execution_count": null,
   "id": "3faa5bf9",
   "metadata": {},
   "outputs": [
    {
     "name": "stdout",
     "output_type": "stream",
     "text": [
      "enter the list[1,23,45,678]\n"
     ]
    }
   ],
   "source": [
    "#Program to Find the Largest Number in a List\n",
    "# a=input('enter the list')\n",
    "# def max(a):\n",
    "#     return max(a)\n",
    "# max(a)"
   ]
  },
  {
   "cell_type": "code",
   "execution_count": 2,
   "id": "62838e22",
   "metadata": {},
   "outputs": [
    {
     "name": "stdout",
     "output_type": "stream",
     "text": [
      "Praju\n"
     ]
    }
   ],
   "source": [
    "print('Praju')"
   ]
  },
  {
   "cell_type": "code",
   "execution_count": 5,
   "id": "179d01f1",
   "metadata": {},
   "outputs": [
    {
     "data": {
      "text/plain": [
       "'The bifurgated lists are [2, 98] and [1, 45, 67, 89]'"
      ]
     },
     "execution_count": 5,
     "metadata": {},
     "output_type": "execute_result"
    }
   ],
   "source": [
    "# Program to Put Even and Odd elements in a List \n",
    "# into Two Different Lists:\n",
    "def bifurgation(lst):\n",
    "    a=[]\n",
    "    b=[]\n",
    "    for i in lst:\n",
    "        if i%2==0:\n",
    "            a.append(i)\n",
    "        else:\n",
    "            b.append(i)\n",
    "    return (f'The bifurgated lists are {a} and {b}')\n",
    "bifurgation([1,2,45,67,98,89])"
   ]
  },
  {
   "cell_type": "code",
   "execution_count": 12,
   "id": "e0d93570",
   "metadata": {},
   "outputs": [
    {
     "name": "stdout",
     "output_type": "stream",
     "text": [
      "praju\n",
      "vishal\n",
      "rahul\n",
      "priya\n",
      "6\n"
     ]
    }
   ],
   "source": [
    "# Program to Read a List of Words and Return the \n",
    "# Length of the Longest One:\n",
    "def longest_of_lst(lst):\n",
    "    a=[]\n",
    "    for i in lst:\n",
    "        a.append(len(i))\n",
    "        print(i,sep='\\n')\n",
    "    print(max(a))\n",
    "        \n",
    "        \n",
    "longest_of_lst(['praju','vishal','rahul','priya'])\n",
    "\n"
   ]
  },
  {
   "cell_type": "code",
   "execution_count": 16,
   "id": "45ff035d",
   "metadata": {},
   "outputs": [
    {
     "name": "stdout",
     "output_type": "stream",
     "text": [
      "[(1, 1), (2, 4), (3, 9), (4, 16), (5, 25)]\n"
     ]
    }
   ],
   "source": [
    "# Create a List of Tuples with the First Element as \n",
    "# the Number and Second Element as the Square \n",
    "# of the Number:\n",
    "lst=[1,2,3,4,5]\n",
    "lst2=[]\n",
    "for i in lst:\n",
    "    lst2.append((i,i**2))\n",
    "print(lst2)    "
   ]
  },
  {
   "cell_type": "code",
   "execution_count": 20,
   "id": "33704c8c",
   "metadata": {},
   "outputs": [
    {
     "name": "stdout",
     "output_type": "stream",
     "text": [
      "[1, 2, 34, 56]\n"
     ]
    }
   ],
   "source": [
    "#Program to Remove the Duplicate Items from a List\n",
    "lst=[1,1,2,34,56,56]\n",
    "lst2=[]\n",
    "for i in lst:\n",
    "    if i not in lst2:\n",
    "        lst2.append(i)\n",
    "print(lst2)\n",
    "    \n",
    "    \n",
    "    \n",
    "    \n",
    "    "
   ]
  },
  {
   "cell_type": "code",
   "execution_count": 37,
   "id": "03c12ee6",
   "metadata": {},
   "outputs": [
    {
     "name": "stdout",
     "output_type": "stream",
     "text": [
      "enter the key3\n",
      "3 is not a key in dict1\n",
      "[1, 2, 3]\n"
     ]
    }
   ],
   "source": [
    "# Program to Check if a Given Key Exists in a \n",
    "# Dictionary or Not:\n",
    "# dict1={1:'praju',2:'ritu',3:'tanu'}\n",
    "# a=input('enter the key')\n",
    "# lst=list(dict1.keys())\n",
    "# if a in lst:\n",
    "#     print(f'{a} is in the key in dict1')\n",
    "# else:\n",
    "#     print(f'{a} is not a key in dict1')\n",
    "# print(lst)"
   ]
  },
  {
   "cell_type": "code",
   "execution_count": 39,
   "id": "2fe17dfe",
   "metadata": {},
   "outputs": [
    {
     "data": {
      "text/plain": [
       "{2: 'ritu', 3: 'tina'}"
      ]
     },
     "execution_count": 39,
     "metadata": {},
     "output_type": "execute_result"
    }
   ],
   "source": [
    "# Program to Remove the Given Key from a \n",
    "# Dictionary:\n",
    "dict1={1:'praju',2:'ritu',3:'tina'}\n",
    "dict1.pop(1)\n",
    "dict1"
   ]
  },
  {
   "cell_type": "code",
   "execution_count": 48,
   "id": "908c3362",
   "metadata": {},
   "outputs": [
    {
     "name": "stdout",
     "output_type": "stream",
     "text": [
      "[(2, 'praju'), (8, 'rahul'), (96, 'ritu')]\n"
     ]
    }
   ],
   "source": [
    "# Write a Python program to sort a dictionary by \n",
    "# key\n",
    "def sort_fun(x):\n",
    "    return x[0]\n",
    "    \n",
    "dict1={2:'praju',96:'ritu',8:'rahul'}\n",
    "dict2=sorted(dict1.items(),key=sort_fun)\n",
    "print(dict2)    \n",
    "    \n",
    "    \n",
    "    "
   ]
  },
  {
   "cell_type": "code",
   "execution_count": 49,
   "id": "7f56797d",
   "metadata": {},
   "outputs": [
    {
     "name": "stdout",
     "output_type": "stream",
     "text": [
      "1 praju\n",
      "2 [1, 2, 3, 4]\n",
      "3 (1, 2)\n"
     ]
    }
   ],
   "source": [
    "# Write a Python program to iterate over dictionaries \n",
    "# using for loops:\n",
    "dict1={1:'praju',2:[1,2,3,4],3:(1,2)}\n",
    "for key,val in dict1.items():\n",
    "    print(key,val)"
   ]
  },
  {
   "cell_type": "code",
   "execution_count": null,
   "id": "e925f6ab",
   "metadata": {},
   "outputs": [],
   "source": []
  }
 ],
 "metadata": {
  "kernelspec": {
   "display_name": "Python 3 (ipykernel)",
   "language": "python",
   "name": "python3"
  },
  "language_info": {
   "codemirror_mode": {
    "name": "ipython",
    "version": 3
   },
   "file_extension": ".py",
   "mimetype": "text/x-python",
   "name": "python",
   "nbconvert_exporter": "python",
   "pygments_lexer": "ipython3",
   "version": "3.9.12"
  }
 },
 "nbformat": 4,
 "nbformat_minor": 5
}
