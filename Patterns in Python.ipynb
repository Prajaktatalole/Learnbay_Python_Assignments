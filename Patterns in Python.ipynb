{
 "cells": [
  {
   "cell_type": "code",
   "execution_count": 10,
   "id": "ac479547",
   "metadata": {},
   "outputs": [
    {
     "name": "stdout",
     "output_type": "stream",
     "text": [
      "\n",
      "1 \n",
      "2 2 \n",
      "3 3 3 \n",
      "4 4 4 4 \n",
      "5 5 5 5 5 \n"
     ]
    }
   ],
   "source": [
    "def traingle_my1(r):\n",
    "    \n",
    "    for i in range(r+1):\n",
    "        for j in range(i):\n",
    "            print(i,end=' ')\n",
    "            \n",
    "\n",
    "        print('')\n",
    "traingle_my1(5)"
   ]
  },
  {
   "cell_type": "code",
   "execution_count": 15,
   "id": "edc783f1",
   "metadata": {},
   "outputs": [
    {
     "name": "stdout",
     "output_type": "stream",
     "text": [
      "\n",
      "1 \n",
      "1 2 \n",
      "1 2 3 \n",
      "1 2 3 4 \n",
      "1 2 3 4 5 \n"
     ]
    }
   ],
   "source": [
    "def traingle_my2(r):\n",
    "    \n",
    "    for i in range(r+1):\n",
    "        for j in range(1,i+1):\n",
    "            print(j,end=' ')\n",
    "            \n",
    "\n",
    "        print('')\n",
    "traingle_my2(5)"
   ]
  },
  {
   "cell_type": "code",
   "execution_count": 109,
   "id": "53a982b0",
   "metadata": {},
   "outputs": [
    {
     "name": "stdout",
     "output_type": "stream",
     "text": [
      "\n",
      "* \n",
      "* * \n",
      "* * * \n",
      "* * * * \n",
      "* * * * * \n"
     ]
    }
   ],
   "source": [
    "def traingle_my2(r):\n",
    "    \n",
    "    for i in range(r+1):\n",
    "        for j in range(1,i+1):\n",
    "            print('*',end=' ')\n",
    "            \n",
    "\n",
    "        print('')\n",
    "traingle_my2(5)"
   ]
  },
  {
   "cell_type": "code",
   "execution_count": 37,
   "id": "4f68338a",
   "metadata": {},
   "outputs": [
    {
     "name": "stdout",
     "output_type": "stream",
     "text": [
      "* * * * \n",
      "* * * * \n",
      "* * * * \n",
      "* * * * \n"
     ]
    }
   ],
   "source": [
    "def traingle_my4(r):\n",
    "    \n",
    "    for i in range(r+1):\n",
    "        for j in range(r+1):\n",
    "            print('*',end=' ')\n",
    "        \n",
    "        print('')\n",
    "traingle_my4(3)"
   ]
  },
  {
   "cell_type": "code",
   "execution_count": 95,
   "id": "6f9045d7",
   "metadata": {},
   "outputs": [
    {
     "name": "stdout",
     "output_type": "stream",
     "text": [
      "* * * * \n",
      "* * * \n",
      "* * \n",
      "* \n"
     ]
    }
   ],
   "source": [
    "def traingle_my6(r):\n",
    "    \n",
    "    for i in range(r,0,-1):\n",
    "        for j in range(i):\n",
    "            print('*',end=' ')\n",
    "        \n",
    "        \n",
    "        print()\n",
    "  \n",
    "        \n",
    "    \n",
    "traingle_my6(4)"
   ]
  },
  {
   "cell_type": "code",
   "execution_count": 103,
   "id": "eb623250",
   "metadata": {},
   "outputs": [
    {
     "name": "stdout",
     "output_type": "stream",
     "text": [
      "* * * \n",
      "* * \n",
      "* \n"
     ]
    }
   ],
   "source": [
    "def traingle(r):\n",
    "    for i in range(r,0,-1):\n",
    "        for j in range(i):\n",
    "            print('*',end=' ')\n",
    "        print()\n",
    "traingle(3)"
   ]
  },
  {
   "cell_type": "code",
   "execution_count": 233,
   "id": "c9c91d7d",
   "metadata": {},
   "outputs": [
    {
     "name": "stdout",
     "output_type": "stream",
     "text": [
      "* * * *  \n",
      "* * *  \n",
      "* *  \n",
      "*  \n",
      " \n"
     ]
    }
   ],
   "source": [
    "def traingle_8(rows):\n",
    "      # It is used for number of spaces  \n",
    "    for i in range(0, rows+1):  \n",
    "        for j in range(0, rows):  \n",
    "            print('*',end=\" \")  \n",
    "        rows = rows -1   # decrement k value after each iteration  \n",
    "#         for j in range(0, i + 1):  \n",
    "#             print(\"* \", end=\"\")  # printing star  \n",
    "        print(\" \") \n",
    "       \n",
    "traingle_8(4)   "
   ]
  },
  {
   "cell_type": "code",
   "execution_count": 231,
   "id": "5662661f",
   "metadata": {},
   "outputs": [
    {
     "name": "stdout",
     "output_type": "stream",
     "text": [
      "      * \n",
      "    * * \n",
      "  * * * \n",
      "* * * * \n"
     ]
    }
   ],
   "source": [
    "def tr(rows):\n",
    "    \n",
    "    k = 2 * rows - 2  # It is used for number of spaces  \n",
    "    for i in range(0, rows):  \n",
    "        for j in range(0, k):  \n",
    "            print(end=\" \")  \n",
    "        k = k - 2   # decrement k value after each iteration  \n",
    "        for j in range(0, i + 1):  \n",
    "            print(\"*\", end=\" \")  # printing star  \n",
    "        \n",
    "        print(\"\")   \n",
    "tr(4)"
   ]
  },
  {
   "cell_type": "code",
   "execution_count": 212,
   "id": "b386c7e2",
   "metadata": {},
   "outputs": [
    {
     "name": "stdout",
     "output_type": "stream",
     "text": [
      "      *  \n",
      "     * *  \n",
      "    * * *  \n",
      "   * * * *  \n"
     ]
    }
   ],
   "source": [
    "def tra(rows):\n",
    "    m = (2 * rows) - 2  \n",
    "    for i in range(0, rows):  \n",
    "        for j in range(0, m):  \n",
    "            print(end=\" \")  \n",
    "        m = m - 1  # decrementing m after each loop  \n",
    "        for j in range(0, i + 1):  \n",
    "        # printing full Triangle pyramid using stars  \n",
    "            print(\"*\", end=' ')  \n",
    "        print(\" \")\n",
    "tra(4)"
   ]
  },
  {
   "cell_type": "code",
   "execution_count": 220,
   "id": "4129422a",
   "metadata": {},
   "outputs": [
    {
     "name": "stdout",
     "output_type": "stream",
     "text": [
      "      * * * * * \n",
      "       * * * * \n",
      "        * * * \n",
      "         * * \n",
      "          * \n"
     ]
    }
   ],
   "source": [
    "def tra(rows):  \n",
    "    k = 2 * rows - 2  \n",
    "# Outer loop in reverse order  \n",
    "    for i in range(rows, -1, -1):  \n",
    "    # Inner loop will print the number of space.  \n",
    "        for j in range(k, 0, -1):  \n",
    "            print(end=\" \")  \n",
    "        k = k + 1  \n",
    "    # This inner loop will print the number o stars  \n",
    "        for j in range(0, i + 1):  \n",
    "            print(\"*\", end=\" \")  \n",
    "        print(\"\")\n",
    "tra(4)"
   ]
  },
  {
   "cell_type": "code",
   "execution_count": 221,
   "id": "43f6ac03",
   "metadata": {},
   "outputs": [
    {
     "name": "stdout",
     "output_type": "stream",
     "text": [
      "enter no of rows4\n",
      "      * \n",
      "     * * \n",
      "    * * * \n",
      "   * * * * \n",
      "  * * * * * \n",
      "   * * * * \n",
      "    * * * \n",
      "     * * \n",
      "      * \n"
     ]
    }
   ],
   "source": [
    "rows=int(input('enter no of rows'))\n",
    "# It is used to print the space  \n",
    "k = 2 * rows - 2  \n",
    "# Outer loop to print number of rows  \n",
    "for i in range(0, rows):  \n",
    "    # Inner loop is used to print number of space  \n",
    "    for j in range(0, k):  \n",
    "        print(end=\" \")  \n",
    "    # Decrement in k after each iteration  \n",
    "    k = k - 1  \n",
    "    # This inner loop is used to print stars  \n",
    "    for j in range(0, i + 1):  \n",
    "        print(\"* \", end=\"\")  \n",
    "    print(\"\")  \n",
    "  # Downward triangle Pyramid  \n",
    "# It is used to print the space  \n",
    "k = rows - 2  \n",
    "# Output for downward triangle pyramid  \n",
    "for i in range(rows, -1, -1):  \n",
    "    # inner loop will print the spaces  \n",
    "    for j in range(k, 0, -1):  \n",
    "        print(end=\" \")  \n",
    "    # Increment in k after each iteration  \n",
    "    k = k + 1  \n",
    "    # This inner loop will print number of stars  \n",
    "    for j in range(0, i + 1):  \n",
    "        print(\"* \", end=\"\")  \n",
    "    print(\"\")  "
   ]
  },
  {
   "cell_type": "code",
   "execution_count": 6,
   "id": "489a8afd",
   "metadata": {},
   "outputs": [
    {
     "name": "stdout",
     "output_type": "stream",
     "text": [
      "* * * * \n",
      "* * * * \n",
      "* * * * \n",
      "* * * * \n"
     ]
    }
   ],
   "source": [
    "def try1(r):\n",
    "    for i in range (r):\n",
    "        for j in range(r):\n",
    "            print('*',end=' ')\n",
    "        print()\n",
    "try1(4)"
   ]
  },
  {
   "cell_type": "code",
   "execution_count": 10,
   "id": "f0a13e84",
   "metadata": {},
   "outputs": [
    {
     "name": "stdout",
     "output_type": "stream",
     "text": [
      "\n",
      "* \n",
      "* * \n",
      "* * * \n",
      "* * * * \n"
     ]
    }
   ],
   "source": [
    "def try2(r):\n",
    "    for i in range (r+1):\n",
    "        for j in range(i):\n",
    "            print('*',end=' ')\n",
    "        print()\n",
    "try2(4)"
   ]
  },
  {
   "cell_type": "code",
   "execution_count": 13,
   "id": "ddf63c06",
   "metadata": {},
   "outputs": [
    {
     "name": "stdout",
     "output_type": "stream",
     "text": [
      "* * * * \n",
      "* * * \n",
      "* * \n",
      "* \n"
     ]
    }
   ],
   "source": [
    "def try3(r):\n",
    "    for i in range (r,0,-1):\n",
    "        for j in range(i):\n",
    "            print('*',end=' ')\n",
    "        print()\n",
    "try3(4)"
   ]
  },
  {
   "cell_type": "code",
   "execution_count": 37,
   "id": "6f4d8c8b",
   "metadata": {},
   "outputs": [
    {
     "name": "stdout",
     "output_type": "stream",
     "text": [
      "      * \n",
      "    * * \n",
      "  * * * \n",
      "* * * * \n"
     ]
    }
   ],
   "source": [
    "def try4(r):\n",
    "    for i in range(r):\n",
    "        for j in range(1,r-i):\n",
    "            print(' ',end=' ')\n",
    "        for j in range(i+1):\n",
    "            print('*',end=' ')\n",
    "        print()\n",
    "    \n",
    "try4(4)"
   ]
  },
  {
   "cell_type": "code",
   "execution_count": 49,
   "id": "e13120cf",
   "metadata": {},
   "outputs": [
    {
     "name": "stdout",
     "output_type": "stream",
     "text": [
      "* * * * \n",
      "  * * * \n",
      "    * * \n",
      "      * \n"
     ]
    }
   ],
   "source": [
    "def try4(r):\n",
    "    for i in range(r):\n",
    "        for j in range(i):\n",
    "            print(' ',end=' ')\n",
    "        for j in range(r-i,0,-1):\n",
    "            print('*',end=' ')\n",
    "        print()\n",
    "try4(4)"
   ]
  },
  {
   "cell_type": "code",
   "execution_count": 54,
   "id": "91728c43",
   "metadata": {},
   "outputs": [
    {
     "name": "stdout",
     "output_type": "stream",
     "text": [
      "* * * * \n",
      "  * * * \n",
      "    * * \n",
      "      * \n"
     ]
    }
   ],
   "source": [
    "def try4(r):\n",
    "    for i in range(r):\n",
    "        for j in range(i):\n",
    "            print(' ',end=' ')\n",
    "        for j in range(r-i,0,-1):\n",
    "            print('*',end=' ')\n",
    "        \n",
    "        print()\n",
    "    \n",
    "try4(4)"
   ]
  },
  {
   "cell_type": "code",
   "execution_count": 90,
   "id": "70a4a3c6",
   "metadata": {},
   "outputs": [
    {
     "name": "stdout",
     "output_type": "stream",
     "text": [
      "* * * * * * * \n",
      "  * * * * * \n",
      "    * * * \n",
      "      * \n"
     ]
    }
   ],
   "source": [
    "def try4(r):\n",
    "    for i in range(r):\n",
    "        for j in range(i):\n",
    "            print(' ',end=' ')\n",
    "        for j in range(r-i,1,-1):\n",
    "            print('*',end=' ')\n",
    "        for j in range(r-i,0,-1):\n",
    "            print('*',end=' ')\n",
    "            \n",
    " \n",
    "        print()   \n",
    "        \n",
    "    \n",
    "try4(4)\n"
   ]
  },
  {
   "cell_type": "code",
   "execution_count": 92,
   "id": "b498403c",
   "metadata": {},
   "outputs": [
    {
     "name": "stdout",
     "output_type": "stream",
     "text": [
      "      * \n",
      "    * * * \n",
      "  * * * * * \n",
      "* * * * * * * \n"
     ]
    }
   ],
   "source": [
    "def try4(r):\n",
    "    for i in range(r):\n",
    "        for j in range(1,r-i):\n",
    "            print(' ',end=' ')\n",
    "        for j in range(i+1):\n",
    "            print('*',end=' ')\n",
    "        for j in range(i):\n",
    "            print('*',end=' ')\n",
    "        \n",
    "            \n",
    " \n",
    "        print()   \n",
    "        \n",
    "    \n",
    "try4(4)"
   ]
  },
  {
   "cell_type": "code",
   "execution_count": 103,
   "id": "45fff463",
   "metadata": {},
   "outputs": [
    {
     "name": "stdout",
     "output_type": "stream",
     "text": [
      "          * \n",
      "        * * \n",
      "      * * * \n",
      "    * * * * \n",
      "  * * * * * \n"
     ]
    }
   ],
   "source": [
    "def try4(r):\n",
    "    for i in range(r):\n",
    "        for j in range()\n",
    "   "
   ]
  },
  {
   "cell_type": "code",
   "execution_count": 106,
   "id": "13b054a5",
   "metadata": {},
   "outputs": [
    {
     "name": "stdout",
     "output_type": "stream",
     "text": [
      "* * * * * \n",
      "* * * * * \n",
      "* * * * * \n",
      "* * * * * \n",
      "* * * * * \n"
     ]
    }
   ],
   "source": [
    "def pattern(r):\n",
    "    for i in range(r):\n",
    "        for j in range(r):\n",
    "            print('*',end=' ')\n",
    "        print()\n",
    "pattern(5)"
   ]
  },
  {
   "cell_type": "code",
   "execution_count": 111,
   "id": "3db3cd45",
   "metadata": {},
   "outputs": [
    {
     "name": "stdout",
     "output_type": "stream",
     "text": [
      "# # # # # \n",
      "# # # # # \n",
      "# # # # # \n",
      "# # # # # \n",
      "# # # # # \n"
     ]
    }
   ],
   "source": [
    "def pattern(r):\n",
    "    for i in range(r):\n",
    "        for j in range(r):\n",
    "            print('#',end=' ')\n",
    "        print()\n",
    "pattern(5)"
   ]
  },
  {
   "cell_type": "code",
   "execution_count": 116,
   "id": "6ae318fb",
   "metadata": {},
   "outputs": [
    {
     "name": "stdout",
     "output_type": "stream",
     "text": [
      "# \n",
      "# # \n",
      "# # # \n",
      "# # # # \n",
      "# # # # # \n"
     ]
    }
   ],
   "source": [
    "##  BY My U tube##\n",
    "def pattern(r):\n",
    "    for i in range(r):\n",
    "        for j in range(i+1):\n",
    "            print('#',end=' ')\n",
    "         \n",
    "        print()\n",
    "pattern(5)"
   ]
  },
  {
   "cell_type": "code",
   "execution_count": 117,
   "id": "5b400e86",
   "metadata": {},
   "outputs": [
    {
     "name": "stdout",
     "output_type": "stream",
     "text": [
      "# # # # # \n",
      "# # # # \n",
      "# # # \n",
      "# # \n",
      "# \n"
     ]
    }
   ],
   "source": [
    "\n",
    "def pattern(r):\n",
    "    for i in range(r):\n",
    "        for j in range(r-i):\n",
    "            print('#',end=' ')\n",
    "         \n",
    "        print()\n",
    "pattern(5)"
   ]
  },
  {
   "cell_type": "code",
   "execution_count": 125,
   "id": "bff039be",
   "metadata": {},
   "outputs": [
    {
     "name": "stdout",
     "output_type": "stream",
     "text": [
      "          # \n",
      "        # # \n",
      "      # # # \n",
      "    # # # # \n",
      "  # # # # # \n"
     ]
    }
   ],
   "source": [
    "def pattern(r):\n",
    "    for i in range(r):\n",
    "        \n",
    "        for j in range(r-i):\n",
    "            print(' ',end=' ')\n",
    "        for j in range(i+1):\n",
    "            print('#',end=' ')\n",
    "         \n",
    "        print()\n",
    "pattern(5)"
   ]
  },
  {
   "cell_type": "code",
   "execution_count": 122,
   "id": "40e549ee",
   "metadata": {},
   "outputs": [
    {
     "name": "stdout",
     "output_type": "stream",
     "text": [
      "  # # # # # \n",
      "    # # # # \n",
      "      # # # \n",
      "        # # \n",
      "          # \n"
     ]
    }
   ],
   "source": [
    "def pattern(r):\n",
    "    for i in range(r):\n",
    "        for j in range(i+1):\n",
    "            print(' ',end=' ')\n",
    "        \n",
    "        for j in range(r-i):\n",
    "            print('#',end=' ')\n",
    "         \n",
    "        print()\n",
    "pattern(5)"
   ]
  },
  {
   "cell_type": "code",
   "execution_count": 128,
   "id": "22a821ef",
   "metadata": {},
   "outputs": [
    {
     "name": "stdout",
     "output_type": "stream",
     "text": [
      "  # # # # # # # # # \n",
      "    # # # # # # # \n",
      "      # # # # # \n",
      "        # # # \n",
      "          # \n"
     ]
    }
   ],
   "source": [
    "def pattern(r):\n",
    "    for i in range(r):\n",
    "        for j in range(i+1):\n",
    "            print(' ',end=' ')\n",
    "        \n",
    "        for j in range(r-i):\n",
    "            print('#',end=' ')\n",
    "        for j in range(r-i-1):\n",
    "            print('#',end=' ')\n",
    "        \n",
    "         \n",
    "        print()\n",
    "pattern(5)"
   ]
  },
  {
   "cell_type": "code",
   "execution_count": 142,
   "id": "d1d5ab4e",
   "metadata": {},
   "outputs": [
    {
     "name": "stdout",
     "output_type": "stream",
     "text": [
      "     # \n",
      "    # # \n",
      "   # # # \n",
      "  # # # # \n",
      " # # # # # \n"
     ]
    }
   ],
   "source": [
    "def pattern(r):\n",
    "    for i in range(r):\n",
    "        for j in range(r-i):\n",
    "            print('',end=' ')\n",
    "\n",
    "        for j in range(i+1):\n",
    "             print('#',end=' ')  \n",
    "        \n",
    "        \n",
    "        \n",
    "         \n",
    "        print()\n",
    "pattern(5)"
   ]
  },
  {
   "cell_type": "code",
   "execution_count": 171,
   "id": "06d5ebe5",
   "metadata": {},
   "outputs": [
    {
     "name": "stdout",
     "output_type": "stream",
     "text": [
      "     # \n",
      "    # # \n",
      "   # # # \n",
      "  # # # # \n",
      " # # # # # \n"
     ]
    }
   ],
   "source": [
    "def pattern(r):\n",
    "    for i in range(r):\n",
    "        for j in range(r-i):\n",
    "            print('',end=' ')\n",
    "        for j in range(i+1):\n",
    "             print('#',end=' ')\n",
    "        \n",
    "       \n",
    "        print()\n",
    "pattern(5)"
   ]
  },
  {
   "cell_type": "code",
   "execution_count": 173,
   "id": "6edace8e",
   "metadata": {},
   "outputs": [
    {
     "name": "stdout",
     "output_type": "stream",
     "text": [
      "# # # # # \n",
      " # # # # \n",
      "  # # # \n",
      "   # # \n",
      "    # \n"
     ]
    }
   ],
   "source": [
    "def pattern(r):\n",
    "    for i in range(r,0,-1):\n",
    "        for j in range(r-i):\n",
    "            print('',end=' ')\n",
    "        for j in range(i):\n",
    "             print('#',end=' ')\n",
    "        \n",
    "       \n",
    "        print()\n",
    "pattern(5)"
   ]
  },
  {
   "cell_type": "code",
   "execution_count": 176,
   "id": "c33bc814",
   "metadata": {},
   "outputs": [
    {
     "name": "stdout",
     "output_type": "stream",
     "text": [
      "* * * * \n",
      "* * * * \n",
      "* * * * \n",
      "* * * * \n"
     ]
    }
   ],
   "source": [
    "def pattern(r):\n",
    "    for i in range (r):\n",
    "        for j in range(r):\n",
    "            print('*',end=' ')\n",
    "        print()\n",
    "\n",
    "pattern(4)"
   ]
  },
  {
   "cell_type": "code",
   "execution_count": 178,
   "id": "191e1452",
   "metadata": {},
   "outputs": [
    {
     "name": "stdout",
     "output_type": "stream",
     "text": [
      "* \n",
      "* * \n",
      "* * * \n",
      "* * * * \n"
     ]
    }
   ],
   "source": [
    "def pattern(r):\n",
    "    for i in range (r):\n",
    "        for j in range(i+1):\n",
    "            print('*',end=' ')\n",
    "        print()\n",
    "\n",
    "pattern(4)"
   ]
  },
  {
   "cell_type": "code",
   "execution_count": 180,
   "id": "47f1d427",
   "metadata": {},
   "outputs": [
    {
     "name": "stdout",
     "output_type": "stream",
     "text": [
      "* * * * \n",
      "* * * \n",
      "* * \n",
      "* \n"
     ]
    }
   ],
   "source": [
    "def pattern(r):\n",
    "    for i in range (r):\n",
    "        for j in range(r-i):\n",
    "            print('*',end=' ')\n",
    "        print()\n",
    "\n",
    "pattern(4)"
   ]
  },
  {
   "cell_type": "code",
   "execution_count": 183,
   "id": "1eac71c8",
   "metadata": {},
   "outputs": [
    {
     "name": "stdout",
     "output_type": "stream",
     "text": [
      "  * * * * \n",
      "    * * * \n",
      "      * * \n",
      "        * \n"
     ]
    }
   ],
   "source": [
    "def pattern(r):\n",
    "    for i in range (r):\n",
    "        for j in range(i+1):\n",
    "            print(' ',end=' ')\n",
    "        for j in range(r-i):\n",
    "            print(\"*\",end=' ')\n",
    "        print()\n",
    "\n",
    "pattern(4)"
   ]
  },
  {
   "cell_type": "code",
   "execution_count": 186,
   "id": "51a49e6e",
   "metadata": {},
   "outputs": [
    {
     "name": "stdout",
     "output_type": "stream",
     "text": [
      " * * * * \n",
      "  * * * \n",
      "   * * \n",
      "    * \n"
     ]
    }
   ],
   "source": [
    "def pattern(r):\n",
    "    for i in range (r):\n",
    "        for j in range(i+1):\n",
    "            print('',end=' ')       #### in above only remove space in this sentence\n",
    "        for j in range(r-i):\n",
    "            print(\"*\",end=' ')\n",
    "        print()\n",
    "\n",
    "pattern(4)"
   ]
  },
  {
   "cell_type": "code",
   "execution_count": 187,
   "id": "c4e28fbd",
   "metadata": {},
   "outputs": [
    {
     "name": "stdout",
     "output_type": "stream",
     "text": [
      "        * \n",
      "      * * \n",
      "    * * * \n",
      "  * * * * \n"
     ]
    }
   ],
   "source": [
    "def pattern(r):\n",
    "    for i in range (r):\n",
    "               \n",
    "        for j in range(r-i):\n",
    "            print(\" \",end=' ')\n",
    "        for j in range(i+1):\n",
    "            print('*',end=' ')\n",
    "        print()\n",
    "\n",
    "pattern(4)"
   ]
  },
  {
   "cell_type": "code",
   "execution_count": 188,
   "id": "307793d8",
   "metadata": {},
   "outputs": [
    {
     "name": "stdout",
     "output_type": "stream",
     "text": [
      "    * \n",
      "   * * \n",
      "  * * * \n",
      " * * * * \n"
     ]
    }
   ],
   "source": [
    "def pattern(r):\n",
    "    for i in range (r):\n",
    "               \n",
    "        for j in range(r-i):\n",
    "            print(\"\",end=' ')\n",
    "        for j in range(i+1):\n",
    "            print('*',end=' ')\n",
    "        print()\n",
    "\n",
    "pattern(4)"
   ]
  },
  {
   "cell_type": "code",
   "execution_count": 191,
   "id": "f431ed76",
   "metadata": {},
   "outputs": [
    {
     "name": "stdout",
     "output_type": "stream",
     "text": [
      "        * \n",
      "      * * * \n",
      "    * * * * * \n",
      "  * * * * * * * \n"
     ]
    }
   ],
   "source": [
    "def pattern(r):\n",
    "    for i in range (r):\n",
    "               \n",
    "        for j in range(r-i):\n",
    "            print(\" \",end=' ')\n",
    "        for j in range(i+1):\n",
    "            print('*',end=' ')\n",
    "        for j in range(i):\n",
    "            print('*',end=' ')\n",
    "        print()\n",
    "\n",
    "pattern(4)"
   ]
  },
  {
   "cell_type": "code",
   "execution_count": null,
   "id": "17897ba1",
   "metadata": {},
   "outputs": [],
   "source": []
  }
 ],
 "metadata": {
  "kernelspec": {
   "display_name": "Python 3 (ipykernel)",
   "language": "python",
   "name": "python3"
  },
  "language_info": {
   "codemirror_mode": {
    "name": "ipython",
    "version": 3
   },
   "file_extension": ".py",
   "mimetype": "text/x-python",
   "name": "python",
   "nbconvert_exporter": "python",
   "pygments_lexer": "ipython3",
   "version": "3.9.12"
  }
 },
 "nbformat": 4,
 "nbformat_minor": 5
}
